{
  "cells": [
    {
      "cell_type": "markdown",
      "metadata": {
        "id": "view-in-github",
        "colab_type": "text"
      },
      "source": [
        "<a href=\"https://colab.research.google.com/github/glenroger19/Calcul-de-plaque-polycarbonate/blob/main/Satisfaction_client_iteration9_textmining_Etape_2_1.ipynb\" target=\"_parent\"><img src=\"https://colab.research.google.com/assets/colab-badge.svg\" alt=\"Open In Colab\"/></a>"
      ]
    },
    {
      "cell_type": "code",
      "execution_count": 4,
      "metadata": {
        "id": "KHOcCvY7JIP8"
      },
      "outputs": [],
      "source": [
        "# -*- coding: utf-8 -*-\n",
        "import numpy as np\n",
        "import pandas as pd\n",
        "import matplotlib.pyplot as plt\n",
        "%matplotlib inline \n",
        "import seaborn as sns\n",
        "import re"
      ]
    },
    {
      "cell_type": "code",
      "execution_count": 5,
      "metadata": {
        "colab": {
          "base_uri": "https://localhost:8080/",
          "height": 74,
          "resources": {
            "http://localhost:8080/nbextensions/google.colab/files.js": {
              "data": "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",
              "headers": [
                [
                  "content-type",
                  "application/javascript"
                ]
              ],
              "ok": true,
              "status": 200,
              "status_text": ""
            }
          }
        },
        "id": "Am1ZTDUUJZmw",
        "outputId": "ce3ce44b-98de-422f-e281-c9fdb6634ee8"
      },
      "outputs": [
        {
          "output_type": "display_data",
          "data": {
            "text/plain": [
              "<IPython.core.display.HTML object>"
            ],
            "text/html": [
              "\n",
              "     <input type=\"file\" id=\"files-dcf29d2a-827f-47cc-a666-bbbd7025647b\" name=\"files[]\" multiple disabled\n",
              "        style=\"border:none\" />\n",
              "     <output id=\"result-dcf29d2a-827f-47cc-a666-bbbd7025647b\">\n",
              "      Upload widget is only available when the cell has been executed in the\n",
              "      current browser session. Please rerun this cell to enable.\n",
              "      </output>\n",
              "      <script src=\"/nbextensions/google.colab/files.js\"></script> "
            ]
          },
          "metadata": {}
        },
        {
          "output_type": "stream",
          "name": "stdout",
          "text": [
            "Saving reviews_trust.csv to reviews_trust.csv\n"
          ]
        }
      ],
      "source": [
        "# importation du DATASET \n",
        "from google.colab import files\n",
        "\n",
        "uploaded = files.upload()\n"
      ]
    },
    {
      "cell_type": "code",
      "execution_count": 6,
      "metadata": {
        "colab": {
          "base_uri": "https://localhost:8080/",
          "height": 391
        },
        "id": "EojES2-fJSWA",
        "outputId": "52e838cd-f722-487f-9245-f03df09b4d10"
      },
      "outputs": [
        {
          "output_type": "stream",
          "name": "stderr",
          "text": [
            "/usr/local/lib/python3.7/dist-packages/seaborn/_decorators.py:43: FutureWarning: Pass the following variable as a keyword arg: x. From version 0.12, the only valid positional argument will be `data`, and passing other arguments without an explicit keyword will result in an error or misinterpretation.\n",
            "  FutureWarning\n"
          ]
        },
        {
          "output_type": "execute_result",
          "data": {
            "text/plain": [
              "1    0.58828\n",
              "0    0.41172\n",
              "Name: Sentiment, dtype: float64"
            ]
          },
          "metadata": {},
          "execution_count": 6
        },
        {
          "output_type": "display_data",
          "data": {
            "text/plain": [
              "<Figure size 432x288 with 1 Axes>"
            ],
            "image/png": "[encoded data removed]"
          },
          "metadata": {
            "needs_background": "light"
          }
        }
      ],
      "source": [
        "df = pd.read_csv(\"reviews_trust.csv\")\n",
        "df = df[[\"Commentaire\", \"star\"]]\n",
        "df[\"Sentiment\"] = df[\"star\"].apply(lambda x : np.where(x >=4 , 1 , 0))  # ajout de la colonne Sentiment à df\n",
        "sns.countplot(df.Sentiment);\n",
        "df[\"Sentiment\"].value_counts(normalize = True) # léger déséquilibre des classes mais peut être traité comme un problème non déséquilibré"
      ]
    },
    {
      "cell_type": "code",
      "execution_count": 7,
      "metadata": {
        "id": "zgEtfnOXKBxm"
      },
      "outputs": [],
      "source": [
        "#Suppression des valeurs manquantes de la colonne Commentaire\n",
        "df = df.dropna(axis = 0, how = 'any', subset =[\"Commentaire\"])\n",
        "df.reset_index(inplace = True)\n",
        "df = df.drop(['index','star'],axis = 1)"
      ]
    },
    {
      "cell_type": "code",
      "execution_count": 8,
      "metadata": {
        "colab": {
          "base_uri": "https://localhost:8080/"
        },
        "id": "ZdSdf0thKb3m",
        "outputId": "a7b9193c-a422-4b36-cffc-6aab0c8249df"
      },
      "outputs": [
        {
          "output_type": "stream",
          "name": "stderr",
          "text": [
            "[nltk_data] Downloading package stopwords to /root/nltk_data...\n",
            "[nltk_data]   Unzipping corpora/stopwords.zip.\n"
          ]
        },
        {
          "output_type": "execute_result",
          "data": {
            "text/plain": [
              "True"
            ]
          },
          "metadata": {},
          "execution_count": 8
        }
      ],
      "source": [
        "import nltk\n",
        "nltk.download('stopwords')"
      ]
    },
    {
      "cell_type": "code",
      "execution_count": 9,
      "metadata": {
        "id": "oik2WqD5KEDG"
      },
      "outputs": [],
      "source": [
        "#Nettoyages des commentaires et étapes de normalisation \n",
        "\n",
        "def find_exclamation(com):   #compte le nombre de points d'exclamation d'un commentaire\n",
        "    r = re.compile(r\"\\!\")\n",
        "    exclamation = r.findall(com)\n",
        "    return len(exclamation)\n",
        "\n",
        "def find_interogation(com): #compte le nombre de points d'interogation d'un commentaire\n",
        "    r = re.compile(r\"\\?\")\n",
        "    interogation = r.findall(com)\n",
        "    return len(interogation)\n",
        "\n",
        "def findCAPSLOCK(com):  #compte le nombre de caractères en majuscule d'un commentaire\n",
        "    r = re.compile(r\"[A-Z]\")\n",
        "    capslock = r.findall(com)\n",
        "    return len(capslock)\n",
        "\n",
        "def find_etc(com): #compte le nombre de chaine de \"..\" d'un commentaire\n",
        "    r = re.compile(r\"\\.{2,}\")\n",
        "    etc = r.findall(com)\n",
        "    return len(etc)\n",
        "\n",
        "df[\"CAPSLOCK\"]= df[\"Commentaire\"].apply(lambda x : findCAPSLOCK(x))\n",
        "df[\"exclamation\"]= df[\"Commentaire\"].apply(lambda x : find_exclamation(x))\n",
        "df[\"interogation\"]= df[\"Commentaire\"].apply(lambda x : find_interogation(x))\n",
        "df[\"chainpoints\"]= df[\"Commentaire\"].apply(lambda x : find_etc(x))\n",
        "df['nb_caracter'] = df[\"Commentaire\"].apply(len)\n",
        "#traitement des emojis\n",
        "# import emoji\n",
        "# def extract_smiley(s):\n",
        "#     r = re.compile(r\":[A-Za-z0-9_]+:\")\n",
        "#     smiley = r.findall(emoji.demojize(s))\n",
        "#     return \" \".join(smiley)\n",
        "\n",
        "# df[\"emoji\"]= df[\"Commentaire\"].apply(lambda x : extract_smiley(x))\n",
        "\n",
        "# df[\"emoji\"] = df[\"emoji\"].replace(\"\",0)\n",
        "\n",
        "# # reduction de la liste de smiley (suppression des doublons dans chaque phrases)\n",
        "# liste_col_emoji = []\n",
        "# for row in df[\"emoji\"]:\n",
        "#     liste_col_emoji.append(str(row))\n",
        "# print(len(liste_col_emoji))\n",
        "\n",
        "# def extract_emoji_unique(liste_col_emoji):\n",
        "#     emoji_liste = []\n",
        "#     for emoji in liste_col_emoji :\n",
        "#         emoji_unique = []\n",
        "#         emoji = emoji.split()\n",
        "#         for el in emoji :\n",
        "#             if el not in emoji_unique: \n",
        "#                 emoji_unique.append(el)\n",
        "#         emoji_liste.append(\" \".join(emoji_unique))\n",
        "#     return emoji_liste\n",
        "    \n",
        "# emoji_sans_rep = extract_emoji_unique(liste_col_emoji)\n",
        "# emoji_cleaned = pd.DataFrame(emoji_sans_rep, columns=[\"cleaned_emoji\"])\n",
        "# df = pd.concat([df,emoji_cleaned], axis= 1)\n",
        "# emoji = pd.get_dummies(df[\"cleaned_emoji\"])\n",
        "# df = pd.concat([df,emoji], 1)\n",
        "# df = df.drop([\"emoji\",\":02: :03:\"], axis = 1)\n",
        "\n",
        "#Tokenization via RegexpTokenizer\n",
        "\n",
        "from nltk.tokenize.regexp import RegexpTokenizer\n",
        "tokenizer = RegexpTokenizer(\"[a-zA-Z0-9éèê_]{1,}\")\n",
        "df[\"preprocessed\"] = df[\"Commentaire\"].apply(lambda x : \" \".join(x.lower() for x in str(x).strip().split()))\n",
        "\n",
        "# On remplace les éèê par e\n",
        "def remplacement_carac_e(com):\n",
        "    text=re.sub(r\"[éèêë]\",\"e\",com)\n",
        "    return text\n",
        "df[\"preprocessed\"] = df[\"preprocessed\"].apply(lambda x : remplacement_carac_e(x))\n",
        "\n",
        "def neg_identify(text): \n",
        "    text = tokenizer.tokenize(text)\n",
        "    for pos, word in enumerate(text) :\n",
        "        if pos != len(text)-1 :\n",
        "            if (word == 'ne' or word == \"n\" or word ==\"n'\"):\n",
        "                text[pos+1] = \"NON_\"+text[pos+1]\n",
        "    text = \" \".join(text)\n",
        "    return (text)\n",
        "df[\"preprocessed\"] = df[\"preprocessed\"].apply(lambda x : neg_identify(x))\n",
        "\n",
        "# Déclaration des stopwords\n",
        "from nltk.corpus import stopwords\n",
        "stop_words = set(stopwords.words('french'))\n",
        "stop_words.update ([\"?\",\"!\",\"_\",\".\",\":\",\",\",\";\",\"-\",\"--\",\"...\",\"'\",\"...\",\"'\",',',',','…la','la','le','les','..','…','(',')','a+','+','etc…','qq','``',\"j'\",\"j '\"])\n",
        "# après une première visualisation des données, \"commande\" est très freqement apparu dans les 2 catégories et n'apporte à priori pas d'information sur la satisfaction du client\"\n",
        "# print(stop_words)\n",
        "\n",
        "# Definition d'une fonction de filtrage de stopwords\n",
        "def stopwords_filtering(chaine): # fonction renvoyant une liste ne contenant pas les stopwords\n",
        "    tokens =[]\n",
        "    chaine = tokenizer.tokenize(chaine)\n",
        "    for mot in chaine :\n",
        "        if mot not in stop_words :#conservation des mots non stopwords \n",
        "            tokens.append(mot)\n",
        "    tokens = \" \".join(tokens)\n",
        "    return tokens\n",
        "df[\"preprocessed\"] = df[\"preprocessed\"].apply(lambda x : stopwords_filtering(x))\n",
        "\n",
        "# Opération de stemming\n",
        "\n",
        "from nltk.stem.snowball import FrenchStemmer\n",
        "\n",
        "stemmer = FrenchStemmer()\n",
        "def  stemming(text) :\n",
        "    text = tokenizer.tokenize(text)\n",
        "    stemmed_text = \"\"\n",
        "    for mot in text: \n",
        "        stem = stemmer.stem(mot)\n",
        "        stemmed_text =  stemmed_text +\" \"+ stem\n",
        "    return  stemmed_text\n",
        "\n",
        "df[\"preprocessed\"] = df[\"preprocessed\"].apply(lambda x: stemming(x))\n"
      ]
    },
    {
      "cell_type": "code",
      "source": [
        "df"
      ],
      "metadata": {
        "colab": {
          "base_uri": "https://localhost:8080/",
          "height": 423
        },
        "id": "gh44eoMs2res",
        "outputId": "5d888a8d-94ee-4a4b-f382-943b866bdc65"
      },
      "execution_count": 10,
      "outputs": [
        {
          "output_type": "execute_result",
          "data": {
            "text/plain": [
              "                                             Commentaire  Sentiment  CAPSLOCK  \\\n",
              "0      Bonjour , Ca doit faire 5 ans environ que je s...          0        18   \n",
              "1      Vente lacoste article manquant photo prise sur...          0         2   \n",
              "2      Vente Lacoste Honteuse , article erroné , arti...          0        15   \n",
              "3      J'ai commandé des mules de la marque Moosefiel...          0         3   \n",
              "4      Commande téléphone etat A+ . Livraison d un vi...          0         9   \n",
              "...                                                  ...        ...       ...   \n",
              "19829                                    Pas de probleme          1         1   \n",
              "19830  Cliente depuis 2008 sans encombre jusqu ' à ju...          0        36   \n",
              "19831  Je ne sais pas si VP cherche à vendre ou à fai...          0        20   \n",
              "19832  Je suis client sur ce site depuis plusieurs an...          1         5   \n",
              "19833  J'ai achetée une offre photobox via le site ve...          0         1   \n",
              "\n",
              "       exclamation  interogation  chainpoints  nb_caracter  \\\n",
              "0               21             2            1         1182   \n",
              "1                0             0            0          138   \n",
              "2                1             0            0         1191   \n",
              "3                2             0            0          148   \n",
              "4                6             0            0          272   \n",
              "...            ...           ...          ...          ...   \n",
              "19829            0             0            0           15   \n",
              "19830            4             0            4          875   \n",
              "19831            1             1            6          718   \n",
              "19832            0             0            0          436   \n",
              "19833            0             0            0          549   \n",
              "\n",
              "                                            preprocessed  \n",
              "0       bonjour ca doit fair 5 an environ membr showr...  \n",
              "1       vent lacost articl manqu photo pris 6 articl ...  \n",
              "2       vent lacost honteux articl erron articl manqu...  \n",
              "3       command mul marqu moosefield tre ue produit e...  \n",
              "4       command telephon etat a livraison vieux telep...  \n",
              "...                                                  ...  \n",
              "19829                                            problem  \n",
              "19830   client depuis 2008 san encombr jusqu juin 201...  \n",
              "19831   non_s si vp cherch vendr fair fuir client col...  \n",
              "19832   client sit depuis plusieur anne dois avou ret...  \n",
              "19833   achete offre photobox vi sit vent prive com o...  \n",
              "\n",
              "[19834 rows x 8 columns]"
            ],
            "text/html": [
              "\n",
              "  <div id=\"df-53ecd690-b923-42b3-9f9c-f4860765f705\">\n",
              "    <div class=\"colab-df-container\">\n",
              "      <div>\n",
              "<style scoped>\n",
              "    .dataframe tbody tr th:only-of-type {\n",
              "        vertical-align: middle;\n",
              "    }\n",
              "\n",
              "    .dataframe tbody tr th {\n",
              "        vertical-align: top;\n",
              "    }\n",
              "\n",
              "    .dataframe thead th {\n",
              "        text-align: right;\n",
              "    }\n",
              "</style>\n",
              "<table border=\"1\" class=\"dataframe\">\n",
              "  <thead>\n",
              "    <tr style=\"text-align: right;\">\n",
              "      <th></th>\n",
              "      <th>Commentaire</th>\n",
              "      <th>Sentiment</th>\n",
              "      <th>CAPSLOCK</th>\n",
              "      <th>exclamation</th>\n",
              "      <th>interogation</th>\n",
              "      <th>chainpoints</th>\n",
              "      <th>nb_caracter</th>\n",
              "      <th>preprocessed</th>\n",
              "    </tr>\n",
              "  </thead>\n",
              "  <tbody>\n",
              "    <tr>\n",
              "      <th>0</th>\n",
              "      <td>Bonjour , Ca doit faire 5 ans environ que je s...</td>\n",
              "      <td>0</td>\n",
              "      <td>18</td>\n",
              "      <td>21</td>\n",
              "      <td>2</td>\n",
              "      <td>1</td>\n",
              "      <td>1182</td>\n",
              "      <td>bonjour ca doit fair 5 an environ membr showr...</td>\n",
              "    </tr>\n",
              "    <tr>\n",
              "      <th>1</th>\n",
              "      <td>Vente lacoste article manquant photo prise sur...</td>\n",
              "      <td>0</td>\n",
              "      <td>2</td>\n",
              "      <td>0</td>\n",
              "      <td>0</td>\n",
              "      <td>0</td>\n",
              "      <td>138</td>\n",
              "      <td>vent lacost articl manqu photo pris 6 articl ...</td>\n",
              "    </tr>\n",
              "    <tr>\n",
              "      <th>2</th>\n",
              "      <td>Vente Lacoste Honteuse , article erroné , arti...</td>\n",
              "      <td>0</td>\n",
              "      <td>15</td>\n",
              "      <td>1</td>\n",
              "      <td>0</td>\n",
              "      <td>0</td>\n",
              "      <td>1191</td>\n",
              "      <td>vent lacost honteux articl erron articl manqu...</td>\n",
              "    </tr>\n",
              "    <tr>\n",
              "      <th>3</th>\n",
              "      <td>J'ai commandé des mules de la marque Moosefiel...</td>\n",
              "      <td>0</td>\n",
              "      <td>3</td>\n",
              "      <td>2</td>\n",
              "      <td>0</td>\n",
              "      <td>0</td>\n",
              "      <td>148</td>\n",
              "      <td>command mul marqu moosefield tre ue produit e...</td>\n",
              "    </tr>\n",
              "    <tr>\n",
              "      <th>4</th>\n",
              "      <td>Commande téléphone etat A+ . Livraison d un vi...</td>\n",
              "      <td>0</td>\n",
              "      <td>9</td>\n",
              "      <td>6</td>\n",
              "      <td>0</td>\n",
              "      <td>0</td>\n",
              "      <td>272</td>\n",
              "      <td>command telephon etat a livraison vieux telep...</td>\n",
              "    </tr>\n",
              "    <tr>\n",
              "      <th>...</th>\n",
              "      <td>...</td>\n",
              "      <td>...</td>\n",
              "      <td>...</td>\n",
              "      <td>...</td>\n",
              "      <td>...</td>\n",
              "      <td>...</td>\n",
              "      <td>...</td>\n",
              "      <td>...</td>\n",
              "    </tr>\n",
              "    <tr>\n",
              "      <th>19829</th>\n",
              "      <td>Pas de probleme</td>\n",
              "      <td>1</td>\n",
              "      <td>1</td>\n",
              "      <td>0</td>\n",
              "      <td>0</td>\n",
              "      <td>0</td>\n",
              "      <td>15</td>\n",
              "      <td>problem</td>\n",
              "    </tr>\n",
              "    <tr>\n",
              "      <th>19830</th>\n",
              "      <td>Cliente depuis 2008 sans encombre jusqu ' à ju...</td>\n",
              "      <td>0</td>\n",
              "      <td>36</td>\n",
              "      <td>4</td>\n",
              "      <td>0</td>\n",
              "      <td>4</td>\n",
              "      <td>875</td>\n",
              "      <td>client depuis 2008 san encombr jusqu juin 201...</td>\n",
              "    </tr>\n",
              "    <tr>\n",
              "      <th>19831</th>\n",
              "      <td>Je ne sais pas si VP cherche à vendre ou à fai...</td>\n",
              "      <td>0</td>\n",
              "      <td>20</td>\n",
              "      <td>1</td>\n",
              "      <td>1</td>\n",
              "      <td>6</td>\n",
              "      <td>718</td>\n",
              "      <td>non_s si vp cherch vendr fair fuir client col...</td>\n",
              "    </tr>\n",
              "    <tr>\n",
              "      <th>19832</th>\n",
              "      <td>Je suis client sur ce site depuis plusieurs an...</td>\n",
              "      <td>1</td>\n",
              "      <td>5</td>\n",
              "      <td>0</td>\n",
              "      <td>0</td>\n",
              "      <td>0</td>\n",
              "      <td>436</td>\n",
              "      <td>client sit depuis plusieur anne dois avou ret...</td>\n",
              "    </tr>\n",
              "    <tr>\n",
              "      <th>19833</th>\n",
              "      <td>J'ai achetée une offre photobox via le site ve...</td>\n",
              "      <td>0</td>\n",
              "      <td>1</td>\n",
              "      <td>0</td>\n",
              "      <td>0</td>\n",
              "      <td>0</td>\n",
              "      <td>549</td>\n",
              "      <td>achete offre photobox vi sit vent prive com o...</td>\n",
              "    </tr>\n",
              "  </tbody>\n",
              "</table>\n",
              "<p>19834 rows × 8 columns</p>\n",
              "</div>\n",
              "      <button class=\"colab-df-convert\" onclick=\"convertToInteractive('df-53ecd690-b923-42b3-9f9c-f4860765f705')\"\n",
              "              title=\"Convert this dataframe to an interactive table.\"\n",
              "              style=\"display:none;\">\n",
              "        \n",
              "  <svg xmlns=\"http://www.w3.org/2000/svg\" height=\"24px\"viewBox=\"0 0 24 24\"\n",
              "       width=\"24px\">\n",
              "    <path d=\"M0 0h24v24H0V0z\" fill=\"none\"/>\n",
              "    <path d=\"M18.56 5.44l.94 2.06.94-2.06 2.06-.94-2.06-.94-.94-2.06-.94 2.06-2.06.94zm-11 1L8.5 8.5l.94-2.06 2.06-.94-2.06-.94L8.5 2.5l-.94 2.06-2.06.94zm10 10l.94 2.06.94-2.06 2.06-.94-2.06-.94-.94-2.06-.94 2.06-2.06.94z\"/><path d=\"M17.41 7.96l-1.37-1.37c-.4-.4-.92-.59-1.43-.59-.52 0-1.04.2-1.43.59L10.3 9.45l-7.72 7.72c-.78.78-.78 2.05 0 2.83L4 21.41c.39.39.9.59 1.41.59.51 0 1.02-.2 1.41-.59l7.78-7.78 2.81-2.81c.8-.78.8-2.07 0-2.86zM5.41 20L4 18.59l7.72-7.72 1.47 1.35L5.41 20z\"/>\n",
              "  </svg>\n",
              "      </button>\n",
              "      \n",
              "  <style>\n",
              "    .colab-df-container {\n",
              "      display:flex;\n",
              "      flex-wrap:wrap;\n",
              "      gap: 12px;\n",
              "    }\n",
              "\n",
              "    .colab-df-convert {\n",
              "      background-color: #E8F0FE;\n",
              "      border: none;\n",
              "      border-radius: 50%;\n",
              "      cursor: pointer;\n",
              "      display: none;\n",
              "      fill: #1967D2;\n",
              "      height: 32px;\n",
              "      padding: 0 0 0 0;\n",
              "      width: 32px;\n",
              "    }\n",
              "\n",
              "    .colab-df-convert:hover {\n",
              "      background-color: #E2EBFA;\n",
              "      box-shadow: 0px 1px 2px rgba(60, 64, 67, 0.3), 0px 1px 3px 1px rgba(60, 64, 67, 0.15);\n",
              "      fill: #174EA6;\n",
              "    }\n",
              "\n",
              "    [theme=dark] .colab-df-convert {\n",
              "      background-color: #3B4455;\n",
              "      fill: #D2E3FC;\n",
              "    }\n",
              "\n",
              "    [theme=dark] .colab-df-convert:hover {\n",
              "      background-color: #434B5C;\n",
              "      box-shadow: 0px 1px 3px 1px rgba(0, 0, 0, 0.15);\n",
              "      filter: drop-shadow(0px 1px 2px rgba(0, 0, 0, 0.3));\n",
              "      fill: #FFFFFF;\n",
              "    }\n",
              "  </style>\n",
              "\n",
              "      <script>\n",
              "        const buttonEl =\n",
              "          document.querySelector('#df-53ecd690-b923-42b3-9f9c-f4860765f705 button.colab-df-convert');\n",
              "        buttonEl.style.display =\n",
              "          google.colab.kernel.accessAllowed ? 'block' : 'none';\n",
              "\n",
              "        async function convertToInteractive(key) {\n",
              "          const element = document.querySelector('#df-53ecd690-b923-42b3-9f9c-f4860765f705');\n",
              "          const dataTable =\n",
              "            await google.colab.kernel.invokeFunction('convertToInteractive',\n",
              "                                                     [key], {});\n",
              "          if (!dataTable) return;\n",
              "\n",
              "          const docLinkHtml = 'Like what you see? Visit the ' +\n",
              "            '<a target=\"_blank\" href=https://colab.research.google.com/notebooks/data_table.ipynb>data table notebook</a>'\n",
              "            + ' to learn more about interactive tables.';\n",
              "          element.innerHTML = '';\n",
              "          dataTable['output_type'] = 'display_data';\n",
              "          await google.colab.output.renderOutput(dataTable, element);\n",
              "          const docLink = document.createElement('div');\n",
              "          docLink.innerHTML = docLinkHtml;\n",
              "          element.appendChild(docLink);\n",
              "        }\n",
              "      </script>\n",
              "    </div>\n",
              "  </div>\n",
              "  "
            ]
          },
          "metadata": {},
          "execution_count": 10
        }
      ]
    },
    {
      "cell_type": "markdown",
      "metadata": {
        "id": "dwg_hUpWLIc_"
      },
      "source": [
        "#Analyse de sentiments ##"
      ]
    },
    {
      "cell_type": "markdown",
      "metadata": {
        "id": "8unz0jjBLUHm"
      },
      "source": [
        "### Methode BOW (Bag of words) CountVectorizer"
      ]
    },
    {
      "cell_type": "code",
      "execution_count": 14,
      "metadata": {
        "id": "BDMyfkn5K0uO"
      },
      "outputs": [],
      "source": [
        "from sklearn.feature_extraction.text import CountVectorizer\n",
        "from sklearn.model_selection import train_test_split \n",
        "\n",
        "X = df.drop(['Commentaire', 'Sentiment'], axis=1)\n",
        "y = df[\"Sentiment\"]\n",
        "df_train, df_test, y_train, y_test = train_test_split(X,y, train_size = 0.8, random_state = 0)"
      ]
    },
    {
      "cell_type": "code",
      "execution_count": 15,
      "metadata": {
        "id": "I6_FtrSIK3p2"
      },
      "outputs": [],
      "source": [
        "from sklearn.linear_model import LogisticRegression\n",
        "from sklearn.svm import SVC\n",
        "from sklearn.naive_bayes import MultinomialNB #Particulièrement adapté aux problèmes de classification avec des features discretes (text classification)\n",
        "from sklearn.ensemble import GradientBoostingClassifier\n",
        "from sklearn.metrics import classification_report"
      ]
    },
    {
      "cell_type": "markdown",
      "metadata": {
        "id": "If3cHDfpK9g4"
      },
      "source": [
        "##  Algorithmes de classification sans tunning d'hyperparamètres\n",
        "- Régression logistique\n",
        "- SVM\n",
        "- Naïve Bayes\n",
        "- GradientBoosting\n",
        "Vectorisation prenant en compte uniquement les unigrams (vectorisation mot / mot)"
      ]
    },
    {
      "cell_type": "code",
      "execution_count": null,
      "metadata": {
        "colab": {
          "base_uri": "https://localhost:8080/"
        },
        "id": "J_WsyllLLNBn",
        "outputId": "0096e217-1e6a-41bd-a268-29e8ad5f8f51"
      },
      "outputs": [
        {
          "name": "stdout",
          "output_type": "stream",
          "text": [
            "CPU times: user 52.2 s, sys: 20 s, total: 1min 12s\n",
            "Wall time: 57.9 s\n"
          ]
        }
      ],
      "source": [
        "%%time\n",
        "from scipy.sparse import hstack\n",
        "# Vectorization avec CountVectorizer ()\n",
        "\n",
        "vec_unigram = CountVectorizer(analyzer='word', ngram_range=(1,1)) #stopwords déjà supprimés dans le prétraitement\n",
        "X_train_text = vec_unigram.fit_transform(df_train.preprocessed)\n",
        "X_test_text = vec_unigram.transform(df_test.preprocessed)\n",
        "#on ajoute les metadonnées à notre vecteur d'occurence\n",
        "X_train = hstack((X_train_text, df_train.drop('preprocessed', axis=1).values))\n",
        "X_test = hstack((X_test_text, df_test.drop('preprocessed', axis=1).values))\n",
        "\n",
        "# instanciation des classifieurs \n",
        "clf_reglog_unigram = LogisticRegression(C=1, max_iter= 10000)\n",
        "clf_svc_unigram = SVC()\n",
        "clf_MNB_unigram = MultinomialNB() \n",
        "clf_GB_unigram = GradientBoostingClassifier()\n",
        "\n",
        "# Fit des classifieurs aux données d'entraînement\n",
        "clf_reglog_unigram.fit(X_train, y_train)\n",
        "clf_svc_unigram.fit(X_train, y_train)\n",
        "clf_MNB_unigram.fit(X_train, y_train)\n",
        "clf_GB_unigram.fit(X_train, y_train)"
      ]
    },
    {
      "cell_type": "code",
      "execution_count": null,
      "metadata": {
        "colab": {
          "base_uri": "https://localhost:8080/"
        },
        "id": "-BHp0MfgLptv",
        "outputId": "623fa200-56ac-4ea5-ed5b-c12a6412895b"
      },
      "outputs": [
        {
          "name": "stdout",
          "output_type": "stream",
          "text": [
            " -- Régression logistique --\n",
            "Score sur le trainset : 0.9432785025524674 ; Score sur le testset :  0.8905974287874968\n",
            " -- SVC --\n",
            "Score sur le trainset : 0.8157811810676247 ; Score sur le testset :  0.8124527350642803\n",
            " -- Multinomial Naïve Bayes --\n",
            "Score sur le trainset : 0.8771034221970126 ; Score sur le testset :  0.8694227375850769\n",
            " -- GradientBoosting -- \n",
            "Score sur le trainset : 0.8733219890338438 ; Score sur le testset :  0.8653894630703303\n",
            "CPU times: user 24.9 s, sys: 0 ns, total: 24.9 s\n",
            "Wall time: 27.4 s\n"
          ]
        }
      ],
      "source": [
        "%%time\n",
        "# Affichage des scores des différents classifieurs\n",
        "\n",
        "print(\" -- Régression logistique --\")\n",
        "print(\"Score sur le trainset :\",clf_reglog_unigram.score(X_train,y_train),\"; Score sur le testset : \",clf_reglog_unigram.score(X_test,y_test))\n",
        "print(\" -- SVC --\")\n",
        "print(\"Score sur le trainset :\",clf_svc_unigram.score(X_train,y_train),\"; Score sur le testset : \",clf_svc_unigram.score(X_test,y_test))\n",
        "print(\" -- Multinomial Naïve Bayes --\")\n",
        "print(\"Score sur le trainset :\",clf_MNB_unigram.score(X_train,y_train),\"; Score sur le testset : \",clf_MNB_unigram.score(X_test,y_test))\n",
        "print(\" -- GradientBoosting -- \")\n",
        "print(\"Score sur le trainset :\",clf_GB_unigram.score(X_train,y_train),\"; Score sur le testset : \",clf_GB_unigram.score(X_test,y_test))"
      ]
    },
    {
      "cell_type": "markdown",
      "metadata": {
        "id": "32aSvAqAL3TI"
      },
      "source": [
        "##   Tunning d'hyperparamètres des Algorithmes de classification\n",
        "- Régression logistique\n",
        "- SVM\n",
        "- Naïve Bayes\n",
        "- GradientBoosting\n",
        "Vectorisation prenant en compte des ngrams (1 à 2)"
      ]
    },
    {
      "cell_type": "code",
      "execution_count": null,
      "metadata": {
        "colab": {
          "base_uri": "https://localhost:8080/"
        },
        "id": "eMc5p2ekLw3e",
        "outputId": "2d6f529b-8231-459f-9133-04e6cf6462c5"
      },
      "outputs": [
        {
          "name": "stdout",
          "output_type": "stream",
          "text": [
            "CPU times: user 2min 36s, sys: 1min 23s, total: 3min 59s\n",
            "Wall time: 3min 31s\n"
          ]
        }
      ],
      "source": [
        "%%time\n",
        "X = df.drop(['Commentaire', 'Sentiment'], axis=1)\n",
        "y = df[\"Sentiment\"]\n",
        "df_train, df_test, y_train, y_test = train_test_split(X,y, train_size = 0.8, random_state = 0)\n",
        "\n",
        "# Vectorization avec CountVectorizer ()\n",
        "\n",
        "vec_ngram = CountVectorizer(analyzer='word', ngram_range=(1,2)) #stopwords déjà supprimés dans le prétraitement\n",
        "X_train_text = vec_ngram.fit_transform(df_train.preprocessed)\n",
        "X_test_text = vec_ngram.transform(df_test.preprocessed)\n",
        "\n",
        "#on ajoute les metadonnées à notre vecteur d'occurence\n",
        "X_train = hstack((X_train_text, df_train.drop('preprocessed', axis=1).values))\n",
        "X_test = hstack((X_test_text, df_test.drop('preprocessed', axis=1).values))\n",
        "\n",
        "# instanciation des classifieurs \n",
        "clf_reglog_ngram = LogisticRegression(C=1, max_iter= 10000)\n",
        "clf_svc_ngram = SVC()\n",
        "clf_MNB_ngram = MultinomialNB() \n",
        "clf_GB_ngram = GradientBoostingClassifier() \n",
        "\n",
        "# Fit des classifieurs aux données d'entraînement\n",
        "clf_reglog_ngram.fit(X_train, y_train)\n",
        "clf_svc_ngram.fit(X_train, y_train)\n",
        "clf_MNB_ngram.fit(X_train, y_train)\n",
        "clf_GB_ngram.fit(X_train, y_train)"
      ]
    },
    {
      "cell_type": "code",
      "execution_count": null,
      "metadata": {
        "colab": {
          "base_uri": "https://localhost:8080/"
        },
        "id": "dkTGcsLuL-y_",
        "outputId": "3200572c-642e-4446-9470-66d0b32d1546"
      },
      "outputs": [
        {
          "name": "stdout",
          "output_type": "stream",
          "text": [
            " -- Régression logistique --\n",
            "Score sur le trainset : 0.9851893867775887 ; Score sur le testset :  0.9037055709604235\n",
            " -- SVC --\n",
            "Score sur le trainset : 0.8157181571815718 ; Score sur le testset :  0.8124527350642803\n",
            " -- Multinomial Naïve Bayes --\n",
            "Score sur le trainset : 0.9069767441860465 ; Score sur le testset :  0.8389210990673053\n",
            " -- GradientBoosting -- \n",
            "Score sur le trainset : 0.8744564189827945 ; Score sur le testset :  0.8656415427275019\n",
            "CPU times: user 36.4 s, sys: 0 ns, total: 36.4 s\n",
            "Wall time: 37.1 s\n"
          ]
        }
      ],
      "source": [
        "%%time\n",
        "# Affichage des scores des différents classifieurs\n",
        "print(\" -- Régression logistique --\")\n",
        "print(\"Score sur le trainset :\",clf_reglog_ngram.score(X_train,y_train),\"; Score sur le testset : \",clf_reglog_ngram.score(X_test,y_test))\n",
        "print(\" -- SVC --\")\n",
        "print(\"Score sur le trainset :\",clf_svc_ngram.score(X_train,y_train),\"; Score sur le testset : \",clf_svc_ngram.score(X_test,y_test))\n",
        "print(\" -- Multinomial Naïve Bayes --\")\n",
        "print(\"Score sur le trainset :\",clf_MNB_ngram.score(X_train,y_train),\"; Score sur le testset : \",clf_MNB_ngram.score(X_test,y_test))\n",
        "print(\" -- GradientBoosting -- \")\n",
        "print(\"Score sur le trainset :\",clf_GB_ngram.score(X_train,y_train),\"; Score sur le testset : \",clf_GB_ngram.score(X_test,y_test))"
      ]
    },
    {
      "cell_type": "code",
      "execution_count": null,
      "metadata": {
        "colab": {
          "base_uri": "https://localhost:8080/",
          "height": 1000
        },
        "id": "h6XiVQcvMAy_",
        "outputId": "27be95dc-ed3a-4d94-d3ce-a3ce9df16021"
      },
      "outputs": [
        {
          "name": "stdout",
          "output_type": "stream",
          "text": [
            " -- Régression logistique --\n"
          ]
        },
        {
          "data": {
            "text/html": [
              "\n",
              "  <div id=\"df-425ed1f4-e926-4981-83ef-de32ff90ed2c\">\n",
              "    <div class=\"colab-df-container\">\n",
              "      <div>\n",
              "<style scoped>\n",
              "    .dataframe tbody tr th:only-of-type {\n",
              "        vertical-align: middle;\n",
              "    }\n",
              "\n",
              "    .dataframe tbody tr th {\n",
              "        vertical-align: top;\n",
              "    }\n",
              "\n",
              "    .dataframe thead th {\n",
              "        text-align: right;\n",
              "    }\n",
              "</style>\n",
              "<table border=\"1\" class=\"dataframe\">\n",
              "  <thead>\n",
              "    <tr style=\"text-align: right;\">\n",
              "      <th>Classe réelle</th>\n",
              "      <th>0</th>\n",
              "      <th>1</th>\n",
              "    </tr>\n",
              "    <tr>\n",
              "      <th>Classe prédite</th>\n",
              "      <th></th>\n",
              "      <th></th>\n",
              "    </tr>\n",
              "  </thead>\n",
              "  <tbody>\n",
              "    <tr>\n",
              "      <th>0</th>\n",
              "      <td>1416</td>\n",
              "      <td>236</td>\n",
              "    </tr>\n",
              "    <tr>\n",
              "      <th>1</th>\n",
              "      <td>146</td>\n",
              "      <td>2169</td>\n",
              "    </tr>\n",
              "  </tbody>\n",
              "</table>\n",
              "</div>\n",
              "      <button class=\"colab-df-convert\" onclick=\"convertToInteractive('df-425ed1f4-e926-4981-83ef-de32ff90ed2c')\"\n",
              "              title=\"Convert this dataframe to an interactive table.\"\n",
              "              style=\"display:none;\">\n",
              "        \n",
              "  <svg xmlns=\"http://www.w3.org/2000/svg\" height=\"24px\"viewBox=\"0 0 24 24\"\n",
              "       width=\"24px\">\n",
              "    <path d=\"M0 0h24v24H0V0z\" fill=\"none\"/>\n",
              "    <path d=\"M18.56 5.44l.94 2.06.94-2.06 2.06-.94-2.06-.94-.94-2.06-.94 2.06-2.06.94zm-11 1L8.5 8.5l.94-2.06 2.06-.94-2.06-.94L8.5 2.5l-.94 2.06-2.06.94zm10 10l.94 2.06.94-2.06 2.06-.94-2.06-.94-.94-2.06-.94 2.06-2.06.94z\"/><path d=\"M17.41 7.96l-1.37-1.37c-.4-.4-.92-.59-1.43-.59-.52 0-1.04.2-1.43.59L10.3 9.45l-7.72 7.72c-.78.78-.78 2.05 0 2.83L4 21.41c.39.39.9.59 1.41.59.51 0 1.02-.2 1.41-.59l7.78-7.78 2.81-2.81c.8-.78.8-2.07 0-2.86zM5.41 20L4 18.59l7.72-7.72 1.47 1.35L5.41 20z\"/>\n",
              "  </svg>\n",
              "      </button>\n",
              "      \n",
              "  <style>\n",
              "    .colab-df-container {\n",
              "      display:flex;\n",
              "      flex-wrap:wrap;\n",
              "      gap: 12px;\n",
              "    }\n",
              "\n",
              "    .colab-df-convert {\n",
              "      background-color: #E8F0FE;\n",
              "      border: none;\n",
              "      border-radius: 50%;\n",
              "      cursor: pointer;\n",
              "      display: none;\n",
              "      fill: #1967D2;\n",
              "      height: 32px;\n",
              "      padding: 0 0 0 0;\n",
              "      width: 32px;\n",
              "    }\n",
              "\n",
              "    .colab-df-convert:hover {\n",
              "      background-color: #E2EBFA;\n",
              "      box-shadow: 0px 1px 2px rgba(60, 64, 67, 0.3), 0px 1px 3px 1px rgba(60, 64, 67, 0.15);\n",
              "      fill: #174EA6;\n",
              "    }\n",
              "\n",
              "    [theme=dark] .colab-df-convert {\n",
              "      background-color: #3B4455;\n",
              "      fill: #D2E3FC;\n",
              "    }\n",
              "\n",
              "    [theme=dark] .colab-df-convert:hover {\n",
              "      background-color: #434B5C;\n",
              "      box-shadow: 0px 1px 3px 1px rgba(0, 0, 0, 0.15);\n",
              "      filter: drop-shadow(0px 1px 2px rgba(0, 0, 0, 0.3));\n",
              "      fill: #FFFFFF;\n",
              "    }\n",
              "  </style>\n",
              "\n",
              "      <script>\n",
              "        const buttonEl =\n",
              "          document.querySelector('#df-425ed1f4-e926-4981-83ef-de32ff90ed2c button.colab-df-convert');\n",
              "        buttonEl.style.display =\n",
              "          google.colab.kernel.accessAllowed ? 'block' : 'none';\n",
              "\n",
              "        async function convertToInteractive(key) {\n",
              "          const element = document.querySelector('#df-425ed1f4-e926-4981-83ef-de32ff90ed2c');\n",
              "          const dataTable =\n",
              "            await google.colab.kernel.invokeFunction('convertToInteractive',\n",
              "                                                     [key], {});\n",
              "          if (!dataTable) return;\n",
              "\n",
              "          const docLinkHtml = 'Like what you see? Visit the ' +\n",
              "            '<a target=\"_blank\" href=https://colab.research.google.com/notebooks/data_table.ipynb>data table notebook</a>'\n",
              "            + ' to learn more about interactive tables.';\n",
              "          element.innerHTML = '';\n",
              "          dataTable['output_type'] = 'display_data';\n",
              "          await google.colab.output.renderOutput(dataTable, element);\n",
              "          const docLink = document.createElement('div');\n",
              "          docLink.innerHTML = docLinkHtml;\n",
              "          element.appendChild(docLink);\n",
              "        }\n",
              "      </script>\n",
              "    </div>\n",
              "  </div>\n",
              "  "
            ],
            "text/plain": [
              "Classe réelle      0     1\n",
              "Classe prédite            \n",
              "0               1416   236\n",
              "1                146  2169"
            ]
          },
          "metadata": {},
          "output_type": "display_data"
        },
        {
          "name": "stdout",
          "output_type": "stream",
          "text": [
            "              precision    recall  f1-score   support\n",
            "\n",
            "           0       0.91      0.86      0.88      1652\n",
            "           1       0.90      0.94      0.92      2315\n",
            "\n",
            "    accuracy                           0.90      3967\n",
            "   macro avg       0.90      0.90      0.90      3967\n",
            "weighted avg       0.90      0.90      0.90      3967\n",
            "\n",
            " -- SVC --\n"
          ]
        },
        {
          "data": {
            "text/html": [
              "\n",
              "  <div id=\"df-6e36245e-4b00-4f93-80a5-223ed65120ba\">\n",
              "    <div class=\"colab-df-container\">\n",
              "      <div>\n",
              "<style scoped>\n",
              "    .dataframe tbody tr th:only-of-type {\n",
              "        vertical-align: middle;\n",
              "    }\n",
              "\n",
              "    .dataframe tbody tr th {\n",
              "        vertical-align: top;\n",
              "    }\n",
              "\n",
              "    .dataframe thead th {\n",
              "        text-align: right;\n",
              "    }\n",
              "</style>\n",
              "<table border=\"1\" class=\"dataframe\">\n",
              "  <thead>\n",
              "    <tr style=\"text-align: right;\">\n",
              "      <th>Classe réelle</th>\n",
              "      <th>0</th>\n",
              "      <th>1</th>\n",
              "    </tr>\n",
              "    <tr>\n",
              "      <th>Classe prédite</th>\n",
              "      <th></th>\n",
              "      <th></th>\n",
              "    </tr>\n",
              "  </thead>\n",
              "  <tbody>\n",
              "    <tr>\n",
              "      <th>0</th>\n",
              "      <td>1090</td>\n",
              "      <td>562</td>\n",
              "    </tr>\n",
              "    <tr>\n",
              "      <th>1</th>\n",
              "      <td>182</td>\n",
              "      <td>2133</td>\n",
              "    </tr>\n",
              "  </tbody>\n",
              "</table>\n",
              "</div>\n",
              "      <button class=\"colab-df-convert\" onclick=\"convertToInteractive('df-6e36245e-4b00-4f93-80a5-223ed65120ba')\"\n",
              "              title=\"Convert this dataframe to an interactive table.\"\n",
              "              style=\"display:none;\">\n",
              "        \n",
              "  <svg xmlns=\"http://www.w3.org/2000/svg\" height=\"24px\"viewBox=\"0 0 24 24\"\n",
              "       width=\"24px\">\n",
              "    <path d=\"M0 0h24v24H0V0z\" fill=\"none\"/>\n",
              "    <path d=\"M18.56 5.44l.94 2.06.94-2.06 2.06-.94-2.06-.94-.94-2.06-.94 2.06-2.06.94zm-11 1L8.5 8.5l.94-2.06 2.06-.94-2.06-.94L8.5 2.5l-.94 2.06-2.06.94zm10 10l.94 2.06.94-2.06 2.06-.94-2.06-.94-.94-2.06-.94 2.06-2.06.94z\"/><path d=\"M17.41 7.96l-1.37-1.37c-.4-.4-.92-.59-1.43-.59-.52 0-1.04.2-1.43.59L10.3 9.45l-7.72 7.72c-.78.78-.78 2.05 0 2.83L4 21.41c.39.39.9.59 1.41.59.51 0 1.02-.2 1.41-.59l7.78-7.78 2.81-2.81c.8-.78.8-2.07 0-2.86zM5.41 20L4 18.59l7.72-7.72 1.47 1.35L5.41 20z\"/>\n",
              "  </svg>\n",
              "      </button>\n",
              "      \n",
              "  <style>\n",
              "    .colab-df-container {\n",
              "      display:flex;\n",
              "      flex-wrap:wrap;\n",
              "      gap: 12px;\n",
              "    }\n",
              "\n",
              "    .colab-df-convert {\n",
              "      background-color: #E8F0FE;\n",
              "      border: none;\n",
              "      border-radius: 50%;\n",
              "      cursor: pointer;\n",
              "      display: none;\n",
              "      fill: #1967D2;\n",
              "      height: 32px;\n",
              "      padding: 0 0 0 0;\n",
              "      width: 32px;\n",
              "    }\n",
              "\n",
              "    .colab-df-convert:hover {\n",
              "      background-color: #E2EBFA;\n",
              "      box-shadow: 0px 1px 2px rgba(60, 64, 67, 0.3), 0px 1px 3px 1px rgba(60, 64, 67, 0.15);\n",
              "      fill: #174EA6;\n",
              "    }\n",
              "\n",
              "    [theme=dark] .colab-df-convert {\n",
              "      background-color: #3B4455;\n",
              "      fill: #D2E3FC;\n",
              "    }\n",
              "\n",
              "    [theme=dark] .colab-df-convert:hover {\n",
              "      background-color: #434B5C;\n",
              "      box-shadow: 0px 1px 3px 1px rgba(0, 0, 0, 0.15);\n",
              "      filter: drop-shadow(0px 1px 2px rgba(0, 0, 0, 0.3));\n",
              "      fill: #FFFFFF;\n",
              "    }\n",
              "  </style>\n",
              "\n",
              "      <script>\n",
              "        const buttonEl =\n",
              "          document.querySelector('#df-6e36245e-4b00-4f93-80a5-223ed65120ba button.colab-df-convert');\n",
              "        buttonEl.style.display =\n",
              "          google.colab.kernel.accessAllowed ? 'block' : 'none';\n",
              "\n",
              "        async function convertToInteractive(key) {\n",
              "          const element = document.querySelector('#df-6e36245e-4b00-4f93-80a5-223ed65120ba');\n",
              "          const dataTable =\n",
              "            await google.colab.kernel.invokeFunction('convertToInteractive',\n",
              "                                                     [key], {});\n",
              "          if (!dataTable) return;\n",
              "\n",
              "          const docLinkHtml = 'Like what you see? Visit the ' +\n",
              "            '<a target=\"_blank\" href=https://colab.research.google.com/notebooks/data_table.ipynb>data table notebook</a>'\n",
              "            + ' to learn more about interactive tables.';\n",
              "          element.innerHTML = '';\n",
              "          dataTable['output_type'] = 'display_data';\n",
              "          await google.colab.output.renderOutput(dataTable, element);\n",
              "          const docLink = document.createElement('div');\n",
              "          docLink.innerHTML = docLinkHtml;\n",
              "          element.appendChild(docLink);\n",
              "        }\n",
              "      </script>\n",
              "    </div>\n",
              "  </div>\n",
              "  "
            ],
            "text/plain": [
              "Classe réelle      0     1\n",
              "Classe prédite            \n",
              "0               1090   562\n",
              "1                182  2133"
            ]
          },
          "metadata": {},
          "output_type": "display_data"
        },
        {
          "name": "stdout",
          "output_type": "stream",
          "text": [
            "              precision    recall  f1-score   support\n",
            "\n",
            "           0       0.86      0.66      0.75      1652\n",
            "           1       0.79      0.92      0.85      2315\n",
            "\n",
            "    accuracy                           0.81      3967\n",
            "   macro avg       0.82      0.79      0.80      3967\n",
            "weighted avg       0.82      0.81      0.81      3967\n",
            "\n",
            " -- Multinomial Naïve Bayes --\n"
          ]
        },
        {
          "data": {
            "text/html": [
              "\n",
              "  <div id=\"df-8291f965-4551-4a62-a16e-5eb2be8ec3f3\">\n",
              "    <div class=\"colab-df-container\">\n",
              "      <div>\n",
              "<style scoped>\n",
              "    .dataframe tbody tr th:only-of-type {\n",
              "        vertical-align: middle;\n",
              "    }\n",
              "\n",
              "    .dataframe tbody tr th {\n",
              "        vertical-align: top;\n",
              "    }\n",
              "\n",
              "    .dataframe thead th {\n",
              "        text-align: right;\n",
              "    }\n",
              "</style>\n",
              "<table border=\"1\" class=\"dataframe\">\n",
              "  <thead>\n",
              "    <tr style=\"text-align: right;\">\n",
              "      <th>Classe réelle</th>\n",
              "      <th>0</th>\n",
              "      <th>1</th>\n",
              "    </tr>\n",
              "    <tr>\n",
              "      <th>Classe prédite</th>\n",
              "      <th></th>\n",
              "      <th></th>\n",
              "    </tr>\n",
              "  </thead>\n",
              "  <tbody>\n",
              "    <tr>\n",
              "      <th>0</th>\n",
              "      <td>1571</td>\n",
              "      <td>81</td>\n",
              "    </tr>\n",
              "    <tr>\n",
              "      <th>1</th>\n",
              "      <td>558</td>\n",
              "      <td>1757</td>\n",
              "    </tr>\n",
              "  </tbody>\n",
              "</table>\n",
              "</div>\n",
              "      <button class=\"colab-df-convert\" onclick=\"convertToInteractive('df-8291f965-4551-4a62-a16e-5eb2be8ec3f3')\"\n",
              "              title=\"Convert this dataframe to an interactive table.\"\n",
              "              style=\"display:none;\">\n",
              "        \n",
              "  <svg xmlns=\"http://www.w3.org/2000/svg\" height=\"24px\"viewBox=\"0 0 24 24\"\n",
              "       width=\"24px\">\n",
              "    <path d=\"M0 0h24v24H0V0z\" fill=\"none\"/>\n",
              "    <path d=\"M18.56 5.44l.94 2.06.94-2.06 2.06-.94-2.06-.94-.94-2.06-.94 2.06-2.06.94zm-11 1L8.5 8.5l.94-2.06 2.06-.94-2.06-.94L8.5 2.5l-.94 2.06-2.06.94zm10 10l.94 2.06.94-2.06 2.06-.94-2.06-.94-.94-2.06-.94 2.06-2.06.94z\"/><path d=\"M17.41 7.96l-1.37-1.37c-.4-.4-.92-.59-1.43-.59-.52 0-1.04.2-1.43.59L10.3 9.45l-7.72 7.72c-.78.78-.78 2.05 0 2.83L4 21.41c.39.39.9.59 1.41.59.51 0 1.02-.2 1.41-.59l7.78-7.78 2.81-2.81c.8-.78.8-2.07 0-2.86zM5.41 20L4 18.59l7.72-7.72 1.47 1.35L5.41 20z\"/>\n",
              "  </svg>\n",
              "      </button>\n",
              "      \n",
              "  <style>\n",
              "    .colab-df-container {\n",
              "      display:flex;\n",
              "      flex-wrap:wrap;\n",
              "      gap: 12px;\n",
              "    }\n",
              "\n",
              "    .colab-df-convert {\n",
              "      background-color: #E8F0FE;\n",
              "      border: none;\n",
              "      border-radius: 50%;\n",
              "      cursor: pointer;\n",
              "      display: none;\n",
              "      fill: #1967D2;\n",
              "      height: 32px;\n",
              "      padding: 0 0 0 0;\n",
              "      width: 32px;\n",
              "    }\n",
              "\n",
              "    .colab-df-convert:hover {\n",
              "      background-color: #E2EBFA;\n",
              "      box-shadow: 0px 1px 2px rgba(60, 64, 67, 0.3), 0px 1px 3px 1px rgba(60, 64, 67, 0.15);\n",
              "      fill: #174EA6;\n",
              "    }\n",
              "\n",
              "    [theme=dark] .colab-df-convert {\n",
              "      background-color: #3B4455;\n",
              "      fill: #D2E3FC;\n",
              "    }\n",
              "\n",
              "    [theme=dark] .colab-df-convert:hover {\n",
              "      background-color: #434B5C;\n",
              "      box-shadow: 0px 1px 3px 1px rgba(0, 0, 0, 0.15);\n",
              "      filter: drop-shadow(0px 1px 2px rgba(0, 0, 0, 0.3));\n",
              "      fill: #FFFFFF;\n",
              "    }\n",
              "  </style>\n",
              "\n",
              "      <script>\n",
              "        const buttonEl =\n",
              "          document.querySelector('#df-8291f965-4551-4a62-a16e-5eb2be8ec3f3 button.colab-df-convert');\n",
              "        buttonEl.style.display =\n",
              "          google.colab.kernel.accessAllowed ? 'block' : 'none';\n",
              "\n",
              "        async function convertToInteractive(key) {\n",
              "          const element = document.querySelector('#df-8291f965-4551-4a62-a16e-5eb2be8ec3f3');\n",
              "          const dataTable =\n",
              "            await google.colab.kernel.invokeFunction('convertToInteractive',\n",
              "                                                     [key], {});\n",
              "          if (!dataTable) return;\n",
              "\n",
              "          const docLinkHtml = 'Like what you see? Visit the ' +\n",
              "            '<a target=\"_blank\" href=https://colab.research.google.com/notebooks/data_table.ipynb>data table notebook</a>'\n",
              "            + ' to learn more about interactive tables.';\n",
              "          element.innerHTML = '';\n",
              "          dataTable['output_type'] = 'display_data';\n",
              "          await google.colab.output.renderOutput(dataTable, element);\n",
              "          const docLink = document.createElement('div');\n",
              "          docLink.innerHTML = docLinkHtml;\n",
              "          element.appendChild(docLink);\n",
              "        }\n",
              "      </script>\n",
              "    </div>\n",
              "  </div>\n",
              "  "
            ],
            "text/plain": [
              "Classe réelle      0     1\n",
              "Classe prédite            \n",
              "0               1571    81\n",
              "1                558  1757"
            ]
          },
          "metadata": {},
          "output_type": "display_data"
        },
        {
          "name": "stdout",
          "output_type": "stream",
          "text": [
            "              precision    recall  f1-score   support\n",
            "\n",
            "           0       0.74      0.95      0.83      1652\n",
            "           1       0.96      0.76      0.85      2315\n",
            "\n",
            "    accuracy                           0.84      3967\n",
            "   macro avg       0.85      0.85      0.84      3967\n",
            "weighted avg       0.87      0.84      0.84      3967\n",
            "\n",
            " -- GradientBoosting -- \n"
          ]
        },
        {
          "data": {
            "text/html": [
              "\n",
              "  <div id=\"df-af0c8554-2dce-499e-8fb8-0f0e58d456bf\">\n",
              "    <div class=\"colab-df-container\">\n",
              "      <div>\n",
              "<style scoped>\n",
              "    .dataframe tbody tr th:only-of-type {\n",
              "        vertical-align: middle;\n",
              "    }\n",
              "\n",
              "    .dataframe tbody tr th {\n",
              "        vertical-align: top;\n",
              "    }\n",
              "\n",
              "    .dataframe thead th {\n",
              "        text-align: right;\n",
              "    }\n",
              "</style>\n",
              "<table border=\"1\" class=\"dataframe\">\n",
              "  <thead>\n",
              "    <tr style=\"text-align: right;\">\n",
              "      <th>Classe réelle</th>\n",
              "      <th>0</th>\n",
              "      <th>1</th>\n",
              "    </tr>\n",
              "    <tr>\n",
              "      <th>Classe prédite</th>\n",
              "      <th></th>\n",
              "      <th></th>\n",
              "    </tr>\n",
              "  </thead>\n",
              "  <tbody>\n",
              "    <tr>\n",
              "      <th>0</th>\n",
              "      <td>1308</td>\n",
              "      <td>344</td>\n",
              "    </tr>\n",
              "    <tr>\n",
              "      <th>1</th>\n",
              "      <td>189</td>\n",
              "      <td>2126</td>\n",
              "    </tr>\n",
              "  </tbody>\n",
              "</table>\n",
              "</div>\n",
              "      <button class=\"colab-df-convert\" onclick=\"convertToInteractive('df-af0c8554-2dce-499e-8fb8-0f0e58d456bf')\"\n",
              "              title=\"Convert this dataframe to an interactive table.\"\n",
              "              style=\"display:none;\">\n",
              "        \n",
              "  <svg xmlns=\"http://www.w3.org/2000/svg\" height=\"24px\"viewBox=\"0 0 24 24\"\n",
              "       width=\"24px\">\n",
              "    <path d=\"M0 0h24v24H0V0z\" fill=\"none\"/>\n",
              "    <path d=\"M18.56 5.44l.94 2.06.94-2.06 2.06-.94-2.06-.94-.94-2.06-.94 2.06-2.06.94zm-11 1L8.5 8.5l.94-2.06 2.06-.94-2.06-.94L8.5 2.5l-.94 2.06-2.06.94zm10 10l.94 2.06.94-2.06 2.06-.94-2.06-.94-.94-2.06-.94 2.06-2.06.94z\"/><path d=\"M17.41 7.96l-1.37-1.37c-.4-.4-.92-.59-1.43-.59-.52 0-1.04.2-1.43.59L10.3 9.45l-7.72 7.72c-.78.78-.78 2.05 0 2.83L4 21.41c.39.39.9.59 1.41.59.51 0 1.02-.2 1.41-.59l7.78-7.78 2.81-2.81c.8-.78.8-2.07 0-2.86zM5.41 20L4 18.59l7.72-7.72 1.47 1.35L5.41 20z\"/>\n",
              "  </svg>\n",
              "      </button>\n",
              "      \n",
              "  <style>\n",
              "    .colab-df-container {\n",
              "      display:flex;\n",
              "      flex-wrap:wrap;\n",
              "      gap: 12px;\n",
              "    }\n",
              "\n",
              "    .colab-df-convert {\n",
              "      background-color: #E8F0FE;\n",
              "      border: none;\n",
              "      border-radius: 50%;\n",
              "      cursor: pointer;\n",
              "      display: none;\n",
              "      fill: #1967D2;\n",
              "      height: 32px;\n",
              "      padding: 0 0 0 0;\n",
              "      width: 32px;\n",
              "    }\n",
              "\n",
              "    .colab-df-convert:hover {\n",
              "      background-color: #E2EBFA;\n",
              "      box-shadow: 0px 1px 2px rgba(60, 64, 67, 0.3), 0px 1px 3px 1px rgba(60, 64, 67, 0.15);\n",
              "      fill: #174EA6;\n",
              "    }\n",
              "\n",
              "    [theme=dark] .colab-df-convert {\n",
              "      background-color: #3B4455;\n",
              "      fill: #D2E3FC;\n",
              "    }\n",
              "\n",
              "    [theme=dark] .colab-df-convert:hover {\n",
              "      background-color: #434B5C;\n",
              "      box-shadow: 0px 1px 3px 1px rgba(0, 0, 0, 0.15);\n",
              "      filter: drop-shadow(0px 1px 2px rgba(0, 0, 0, 0.3));\n",
              "      fill: #FFFFFF;\n",
              "    }\n",
              "  </style>\n",
              "\n",
              "      <script>\n",
              "        const buttonEl =\n",
              "          document.querySelector('#df-af0c8554-2dce-499e-8fb8-0f0e58d456bf button.colab-df-convert');\n",
              "        buttonEl.style.display =\n",
              "          google.colab.kernel.accessAllowed ? 'block' : 'none';\n",
              "\n",
              "        async function convertToInteractive(key) {\n",
              "          const element = document.querySelector('#df-af0c8554-2dce-499e-8fb8-0f0e58d456bf');\n",
              "          const dataTable =\n",
              "            await google.colab.kernel.invokeFunction('convertToInteractive',\n",
              "                                                     [key], {});\n",
              "          if (!dataTable) return;\n",
              "\n",
              "          const docLinkHtml = 'Like what you see? Visit the ' +\n",
              "            '<a target=\"_blank\" href=https://colab.research.google.com/notebooks/data_table.ipynb>data table notebook</a>'\n",
              "            + ' to learn more about interactive tables.';\n",
              "          element.innerHTML = '';\n",
              "          dataTable['output_type'] = 'display_data';\n",
              "          await google.colab.output.renderOutput(dataTable, element);\n",
              "          const docLink = document.createElement('div');\n",
              "          docLink.innerHTML = docLinkHtml;\n",
              "          element.appendChild(docLink);\n",
              "        }\n",
              "      </script>\n",
              "    </div>\n",
              "  </div>\n",
              "  "
            ],
            "text/plain": [
              "Classe réelle      0     1\n",
              "Classe prédite            \n",
              "0               1308   344\n",
              "1                189  2126"
            ]
          },
          "metadata": {},
          "output_type": "display_data"
        },
        {
          "name": "stdout",
          "output_type": "stream",
          "text": [
            "              precision    recall  f1-score   support\n",
            "\n",
            "           0       0.87      0.79      0.83      1652\n",
            "           1       0.86      0.92      0.89      2315\n",
            "\n",
            "    accuracy                           0.87      3967\n",
            "   macro avg       0.87      0.86      0.86      3967\n",
            "weighted avg       0.87      0.87      0.86      3967\n",
            "\n",
            "CPU times: user 6.42 s, sys: 0 ns, total: 6.42 s\n",
            "Wall time: 6.43 s\n"
          ]
        }
      ],
      "source": [
        "%%time\n",
        "# Affichage des prédictions par les différents classifieurs\n",
        "print(\" -- Régression logistique --\")\n",
        "pred_clf_reglog_ngram = clf_reglog_ngram.predict(X_test)\n",
        "display(pd.crosstab(y_test, pred_clf_reglog_ngram,  colnames=[\"Classe réelle\"], rownames=[\"Classe prédite\"]))\n",
        "print(classification_report(y_test,pred_clf_reglog_ngram))\n",
        "print(\" -- SVC --\")\n",
        "pred_clf_svc_ngram = clf_svc_ngram.predict(X_test)\n",
        "display(pd.crosstab(y_test, pred_clf_svc_ngram,  colnames=[\"Classe réelle\"], rownames=[\"Classe prédite\"]))\n",
        "print(classification_report(y_test,pred_clf_svc_ngram))\n",
        "print(\" -- Multinomial Naïve Bayes --\")\n",
        "pred_clf_MNB_ngram = clf_MNB_ngram.predict(X_test)\n",
        "display(pd.crosstab(y_test, pred_clf_MNB_ngram,  colnames=[\"Classe réelle\"], rownames=[\"Classe prédite\"]))\n",
        "print(classification_report(y_test,pred_clf_MNB_ngram))\n",
        "print(\" -- GradientBoosting -- \")\n",
        "pred_clf_GB_ngram = clf_GB_ngram.predict(X_test)\n",
        "display(pd.crosstab(y_test, pred_clf_GB_ngram,  colnames=[\"Classe réelle\"], rownames=[\"Classe prédite\"]))\n",
        "print(classification_report(y_test,pred_clf_GB_ngram))"
      ]
    },
    {
      "cell_type": "markdown",
      "metadata": {
        "id": "UyoyyYm4MFGY"
      },
      "source": [
        "### Mise au point du modèle Multinomial Naïve Bayes (prenant en compte uniquement des unigrams)"
      ]
    },
    {
      "cell_type": "code",
      "execution_count": null,
      "metadata": {
        "colab": {
          "base_uri": "https://localhost:8080/"
        },
        "id": "9cZKpepTMFon",
        "outputId": "8ef3ff73-e581-446d-e68f-a2283d147df5"
      },
      "outputs": [
        {
          "name": "stdout",
          "output_type": "stream",
          "text": [
            "CPU times: user 415 ms, sys: 0 ns, total: 415 ms\n",
            "Wall time: 413 ms\n"
          ]
        }
      ],
      "source": [
        "%%time\n",
        "from scipy.sparse import hstack\n",
        "# Vectorization avec CountVectorizer ()\n",
        "\n",
        "vec_unigram = CountVectorizer(analyzer='word', ngram_range=(1,1)) #stopwords déjà supprimés dans le prétraitement\n",
        "X_train_text = vec_unigram.fit_transform(df_train.preprocessed)\n",
        "X_test_text = vec_unigram.transform(df_test.preprocessed)\n",
        "#on ajoute les metadonnées à notre vecteur d'occurence\n",
        "X_train = hstack((X_train_text, df_train.drop('preprocessed', axis=1).values))\n",
        "X_test = hstack((X_test_text, df_test.drop('preprocessed', axis=1).values))"
      ]
    },
    {
      "cell_type": "code",
      "execution_count": null,
      "metadata": {
        "colab": {
          "base_uri": "https://localhost:8080/"
        },
        "id": "dN3rcwpAMI-g",
        "outputId": "39f8072d-ac51-46d3-ed57-a55ca41988b6"
      },
      "outputs": [
        {
          "name": "stdout",
          "output_type": "stream",
          "text": [
            "Meilleur paramètre :  {'alpha': 0.21052631586842105} permettant d'obtenir un score de  0.8644363447019006\n",
            "Score sur le trainset : 0.8842251213209806 ; Score sur le testset :  0.8704310562137636\n",
            "On ne fait à priori pas face à un problème d'overfiting\n"
          ]
        }
      ],
      "source": [
        "from sklearn.model_selection import GridSearchCV\n",
        "params = {\"alpha\": np.linspace(1e-10,1,20)}\n",
        "grid_MN = GridSearchCV(MultinomialNB(), cv= 5, param_grid = params)\n",
        "grid_MN.fit(X_train, y_train)\n",
        "print(\"Meilleur paramètre : \", grid_MN.best_params_, \"permettant d'obtenir un score de \" , grid_MN.best_score_)\n",
        "print(\"Score sur le trainset :\",grid_MN.score(X_train,y_train),\"; Score sur le testset : \",grid_MN.score(X_test,y_test))\n",
        "print(\"On ne fait à priori pas face à un problème d'overfiting\")"
      ]
    },
    {
      "cell_type": "code",
      "execution_count": null,
      "metadata": {
        "colab": {
          "base_uri": "https://localhost:8080/",
          "height": 299
        },
        "id": "bzGuXRmvMLI_",
        "outputId": "21495540-175a-4f0b-bb52-46b19ce2fa3b"
      },
      "outputs": [
        {
          "data": {
            "image/png": "[encoded data removed]",
            "text/plain": [
              "<Figure size 432x288 with 1 Axes>"
            ]
          },
          "metadata": {},
          "output_type": "display_data"
        }
      ],
      "source": [
        "y_pred_MNB = grid_MN.predict_proba(X_test)\n",
        "from sklearn.metrics import auc, roc_curve\n",
        "\n",
        "fpr , tpr , seuil = roc_curve(y_test, y_pred_MNB[:,1], pos_label= 1)\n",
        "aucf= auc(fpr, tpr)\n",
        "\n",
        "plt.plot(fpr, tpr, color='coral', lw=2, label ='auc=%1.5f' % aucf)\n",
        "plt.plot([0, 1], [0, 1], 'k--')\n",
        "plt.title(\"-- Multinomial Naïve Bayes ROC CURVE --\")\n",
        "plt.xlim([0.0, 1.0])\n",
        "plt.ylim([0.0, 1.05])\n",
        "plt.xlabel('1 - specificite (Taux de FN)', fontsize=14)\n",
        "plt.ylabel('Sensibilite (Taux de VP)', fontsize=14)\n",
        "plt.legend();\n",
        "plt.show();\n"
      ]
    },
    {
      "cell_type": "markdown",
      "metadata": {
        "id": "pghvSeJMMTP_"
      },
      "source": [
        "### Mise au point du modèle Multinomial Naïve Bayes (prenant en compte les  bigrams)"
      ]
    },
    {
      "cell_type": "code",
      "execution_count": null,
      "metadata": {
        "colab": {
          "base_uri": "https://localhost:8080/"
        },
        "id": "MWM4terJMOoX",
        "outputId": "1113bfb6-57c5-4146-8f16-57e4cbd68f02"
      },
      "outputs": [
        {
          "name": "stdout",
          "output_type": "stream",
          "text": [
            "Meilleur paramètre :  {'alpha': 0.4210526316368421} permettant d'obtenir un score de  0.8709910196520699\n",
            "Score sur le trainset : 0.9418289531732527 ; Score sur le testset :  0.8764809679858835\n",
            "On fait probablement face à un problème d'overfiting\n",
            "CPU times: user 5.13 s, sys: 0 ns, total: 5.13 s\n",
            "Wall time: 6.14 s\n"
          ]
        }
      ],
      "source": [
        "%%time \n",
        "\n",
        "df_train, df_test, y_train, y_test = train_test_split(X,y, train_size = 0.8, random_state = 0)\n",
        "\n",
        "# Vectorization avec CountVectorizer ()\n",
        "\n",
        "vec_ngram = CountVectorizer(analyzer='word', ngram_range=(1,2)) #stopwords déjà supprimés dans le prétraitement\n",
        "X_train_text = vec_ngram.fit_transform(df_train.preprocessed)\n",
        "X_test_text = vec_ngram.transform(df_test.preprocessed)\n",
        "\n",
        "#on ajoute les metadonnées à notre vecteur d'occurence\n",
        "X_train = hstack((X_train_text, df_train.drop('preprocessed', axis=1).values))\n",
        "X_test = hstack((X_test_text, df_test.drop('preprocessed', axis=1).values))\n",
        "\n",
        "params = {\"alpha\": np.linspace(1e-10,1,20)}\n",
        "grid_MN_ngram = GridSearchCV(MultinomialNB(), cv= 5, param_grid = params)\n",
        "grid_MN_ngram.fit(X_train, y_train)\n",
        "print(\"Meilleur paramètre : \", grid_MN_ngram.best_params_, \"permettant d'obtenir un score de \" , grid_MN_ngram.best_score_)\n",
        "print(\"Score sur le trainset :\",grid_MN_ngram.score(X_train,y_train),\"; Score sur le testset : \",grid_MN_ngram.score(X_test,y_test))\n",
        "print(\"On fait probablement face à un problème d'overfiting\")"
      ]
    },
    {
      "cell_type": "code",
      "execution_count": null,
      "metadata": {
        "colab": {
          "base_uri": "https://localhost:8080/",
          "height": 299
        },
        "id": "q4Bkke17MVov",
        "outputId": "4c2d2fa9-be6f-4eaa-8efa-53cc368de870"
      },
      "outputs": [
        {
          "data": {
            "image/png": "[encoded data removed]",
            "text/plain": [
              "<Figure size 432x288 with 1 Axes>"
            ]
          },
          "metadata": {},
          "output_type": "display_data"
        }
      ],
      "source": [
        "y_pred_MNB_ngram = grid_MN_ngram.predict_proba(X_test)\n",
        "from sklearn.metrics import auc, roc_curve\n",
        "\n",
        "fpr , tpr , seuil = roc_curve(y_test, y_pred_MNB_ngram[:,1], pos_label= 1)\n",
        "aucf= auc(fpr, tpr)\n",
        "plt.plot(fpr, tpr, color='coral', lw=2, label ='auc=%1.5f' % aucf)\n",
        "plt.plot([0, 1], [0, 1], 'k--')\n",
        "plt.title(\"-- Multinomial Naïve Bayes ROC CURVE --\")\n",
        "plt.xlim([0.0, 1.0])\n",
        "plt.ylim([0.0, 1.05])\n",
        "plt.xlabel('1 - specificite (Taux de FN)', fontsize=14)\n",
        "plt.ylabel('Sensibilite (Taux de VP)', fontsize=14)\n",
        "plt.legend();\n",
        "plt.show();\n",
        "\n"
      ]
    },
    {
      "cell_type": "markdown",
      "metadata": {
        "id": "LKZQmDuWMjkG"
      },
      "source": [
        "### Mise au point du modèle Regression logistique (prenant en compte uniquement des unigrams)"
      ]
    },
    {
      "cell_type": "code",
      "execution_count": null,
      "metadata": {
        "colab": {
          "base_uri": "https://localhost:8080/"
        },
        "id": "Ldvn-YbwMXtP",
        "outputId": "e9326a4c-4191-413f-c9fe-5b306161d438"
      },
      "outputs": [
        {
          "name": "stdout",
          "output_type": "stream",
          "text": [
            "Best: 0.890149 using {'C': 1.0, 'penalty': 'l2', 'solver': 'liblinear'}\n",
            "0.865444 (0.004888) with: {'C': 100, 'penalty': 'l2', 'solver': 'newton-cg'}\n",
            "0.886683 (0.003934) with: {'C': 100, 'penalty': 'l2', 'solver': 'lbfgs'}\n",
            "0.883280 (0.003556) with: {'C': 100, 'penalty': 'l2', 'solver': 'liblinear'}\n",
            "0.878490 (0.003217) with: {'C': 10, 'penalty': 'l2', 'solver': 'newton-cg'}\n",
            "0.888952 (0.003902) with: {'C': 10, 'penalty': 'l2', 'solver': 'lbfgs'}\n",
            "0.886053 (0.003466) with: {'C': 10, 'penalty': 'l2', 'solver': 'liblinear'}\n",
            "0.889960 (0.004324) with: {'C': 1.0, 'penalty': 'l2', 'solver': 'newton-cg'}\n",
            "0.889834 (0.005108) with: {'C': 1.0, 'penalty': 'l2', 'solver': 'lbfgs'}\n",
            "0.890149 (0.005076) with: {'C': 1.0, 'penalty': 'l2', 'solver': 'liblinear'}\n",
            "0.882965 (0.005750) with: {'C': 0.1, 'penalty': 'l2', 'solver': 'newton-cg'}\n",
            "0.883973 (0.005842) with: {'C': 0.1, 'penalty': 'l2', 'solver': 'lbfgs'}\n",
            "0.884036 (0.005628) with: {'C': 0.1, 'penalty': 'l2', 'solver': 'liblinear'}\n",
            "0.855360 (0.007306) with: {'C': 0.01, 'penalty': 'l2', 'solver': 'newton-cg'}\n",
            "0.855297 (0.007382) with: {'C': 0.01, 'penalty': 'l2', 'solver': 'lbfgs'}\n",
            "0.858259 (0.006913) with: {'C': 0.01, 'penalty': 'l2', 'solver': 'liblinear'}\n",
            "CPU times: user 2.62 s, sys: 0 ns, total: 2.62 s\n",
            "Wall time: 1min 15s\n"
          ]
        }
      ],
      "source": [
        "%%time\n",
        "\n",
        "\n",
        "# Vectorization avec CountVectorizer ()\n",
        "\n",
        "vec_unigram = CountVectorizer(analyzer='word', ngram_range=(1,1)) #stopwords déjà supprimés dans le prétraitement\n",
        "X_train_text = vec_unigram.fit_transform(df_train.preprocessed)\n",
        "X_test_text = vec_unigram.transform(df_test.preprocessed)\n",
        "#on ajoute les metadonnées à notre vecteur d'occurence\n",
        "X_train = hstack((X_train_text, df_train.drop('preprocessed', axis=1).values))\n",
        "X_test = hstack((X_test_text, df_test.drop('preprocessed', axis=1).values))\n",
        "\n",
        "from sklearn.model_selection import StratifiedKFold\n",
        "# define models and parameters\n",
        "model = LogisticRegression(max_iter= 500)\n",
        "solvers = ['newton-cg', 'lbfgs', 'liblinear']\n",
        "penalty = ['l2']\n",
        "C = [100, 10, 1.0, 0.1, 0.01]\n",
        "grid = dict(solver=solvers,penalty=penalty,C=C)\n",
        "# define grid search\n",
        "cv = StratifiedKFold(n_splits=5, random_state=0, shuffle=True)\n",
        "grid_search = GridSearchCV(estimator=model, param_grid=grid, n_jobs=-1, cv=cv, scoring='accuracy')\n",
        "grid_lr = grid_search.fit(X_train, y_train)\n",
        "# summarize results\n",
        "print(\"Best: %f using %s\" % (grid_lr.best_score_, grid_lr.best_params_))\n",
        "means = grid_lr.cv_results_['mean_test_score']\n",
        "stds = grid_lr.cv_results_['std_test_score']\n",
        "params = grid_lr.cv_results_['params']\n",
        "for mean, stdev, param in zip(means, stds, params):\n",
        "    print(\"%f (%f) with: %r\" % (mean, stdev, param))"
      ]
    },
    {
      "cell_type": "code",
      "execution_count": null,
      "metadata": {
        "colab": {
          "base_uri": "https://localhost:8080/"
        },
        "id": "NliIPx4lMnT_",
        "outputId": "16307b2b-e770-45c6-ad9f-1f19dafb5b7a"
      },
      "outputs": [
        {
          "name": "stdout",
          "output_type": "stream",
          "text": [
            "Score sur le trainset : 0.9408835948824604 ; Score sur le testset :  0.8931182253592135\n"
          ]
        }
      ],
      "source": [
        "print(\"Score sur le trainset :\",grid_lr.score(X_train,y_train),\"; Score sur le testset : \",grid_lr.score(X_test,y_test))"
      ]
    },
    {
      "cell_type": "markdown",
      "metadata": {
        "id": "LXqh7H3qMq7O"
      },
      "source": [
        "###  Mise au point du modèle SVC (prenant en compte uniquement des unigrams)"
      ]
    },
    {
      "cell_type": "code",
      "execution_count": null,
      "metadata": {
        "colab": {
          "background_save": true
        },
        "id": "Zq6L4BtXMvf_",
        "outputId": "810deadc-1f58-47d0-faab-28f83fae652c"
      },
      "outputs": [
        {
          "name": "stdout",
          "output_type": "stream",
          "text": [
            "Best: 0.878238 using {'C': 1, 'gamma': 'scale', 'kernel': 'linear'}\n",
            "0.878238 (0.005205) with: {'C': 1, 'gamma': 'scale', 'kernel': 'linear'}\n",
            "0.860339 (0.001051) with: {'C': 10, 'gamma': 'scale', 'kernel': 'linear'}\n",
            "0.848049 (0.002107) with: {'C': 30, 'gamma': 'scale', 'kernel': 'linear'}\n",
            "CPU times: user 23min 21s, sys: 7.98 s, total: 23min 29s\n",
            "Wall time: 3h 42min 26s\n"
          ]
        }
      ],
      "source": [
        "%%time\n",
        "\n",
        "# Vectorization avec CountVectorizer ()\n",
        "\n",
        "\n",
        "X = df.drop(['Commentaire', 'Sentiment'], axis=1)\n",
        "y = df[\"Sentiment\"]\n",
        "df_train, df_test, y_train, y_test = train_test_split(X,y, train_size = 0.8, random_state = 0)\n",
        "\n",
        "vec_unigram = CountVectorizer(analyzer='word', ngram_range=(1,1)) #stopwords déjà supprimés dans le prétraitement\n",
        "X_train_text = vec_unigram.fit_transform(df_train.preprocessed)\n",
        "X_test_text = vec_unigram.transform(df_test.preprocessed)\n",
        "#on ajoute les metadonnées à notre vecteur d'occurence\n",
        "X_train = hstack((X_train_text, df_train.drop('preprocessed', axis=1).values))\n",
        "X_test = hstack((X_test_text, df_test.drop('preprocessed', axis=1).values))\n",
        "\n",
        "\n",
        "from sklearn.model_selection import StratifiedKFold\n",
        "# define models and parameters\n",
        "model = SVC()\n",
        "kernel = ['linear','poly', 'rbf', 'sigmoid']\n",
        "gamma = ['scale']\n",
        "C = [1,10,20,30,40,50]\n",
        "grid = dict(kernel=kernel,C=C,gamma=gamma)\n",
        "# define grid search\n",
        "cv = StratifiedKFold(n_splits=5, random_state=0, shuffle=True)\n",
        "grid_search = GridSearchCV(estimator=model, param_grid=grid, n_jobs=-1, cv=cv, scoring='accuracy')\n",
        "grid_svc = grid_search.fit(X_train, y_train)\n",
        "# summarize results\n",
        "print(\"Best: %f using %s\" % (grid_svc.best_score_, grid_svc.best_params_))\n",
        "means = grid_svc.cv_results_['mean_test_score']\n",
        "stds = grid_svc.cv_results_['std_test_score']\n",
        "params = grid_svc.cv_results_['params']\n",
        "for mean, stdev, param in zip(means, stds, params):\n",
        "    print(\"%f (%f) with: %r\" % (mean, stdev, param))"
      ]
    },
    {
      "cell_type": "code",
      "execution_count": null,
      "metadata": {
        "colab": {
          "background_save": true
        },
        "id": "ZIkzlK-WMw9X",
        "outputId": "8f8cf9cb-e80e-4521-ff24-fdd8d20182fc"
      },
      "outputs": [
        {
          "name": "stdout",
          "output_type": "stream",
          "text": [
            "Score sur le trainset : 0.9598537845843574 ; Score sur le testset :  0.8847995966725485\n"
          ]
        }
      ],
      "source": [
        "print(\"Score sur le trainset :\",grid_svc.score(X_train,y_train),\"; Score sur le testset : \",grid_svc.score(X_test,y_test))"
      ]
    },
    {
      "cell_type": "markdown",
      "metadata": {
        "id": "GCef1HxtNAWg"
      },
      "source": [
        "###  Mise au point du modèle GradientBoosting (prenant en compte uniquement des unigrams)"
      ]
    },
    {
      "cell_type": "code",
      "execution_count": 18,
      "metadata": {
        "id": "-AXY4PP9MzF3",
        "colab": {
          "base_uri": "https://localhost:8080/"
        },
        "outputId": "79c94dfc-2986-44c4-a117-75bb3a4ca743"
      },
      "outputs": [
        {
          "output_type": "stream",
          "name": "stdout",
          "text": [
            "Best: 0.864625 using {'subsample': 0.6}\n",
            "0.864625 (0.006946) with: {'subsample': 0.6}\n",
            "0.863239 (0.007552) with: {'subsample': 0.7}\n",
            "0.864499 (0.004447) with: {'subsample': 0.7999999999999999}\n",
            "0.864562 (0.007822) with: {'subsample': 0.8999999999999999}\n",
            "CPU times: user 1.89 s, sys: 86.8 ms, total: 1.97 s\n",
            "Wall time: 31.8 s\n"
          ]
        }
      ],
      "source": [
        "%%time\n",
        "from scipy.sparse import hstack\n",
        "from sklearn.model_selection import GridSearchCV\n",
        "\n",
        "X = df.drop(['Commentaire', 'Sentiment'], axis=1)\n",
        "y = df[\"Sentiment\"]\n",
        "df_train, df_test, y_train, y_test = train_test_split(X,y, train_size = 0.8, random_state = 0)\n",
        "\n",
        "# Vectorization avec CountVectorizer ()\n",
        "\n",
        "vec_unigram_GB = CountVectorizer(analyzer='word', ngram_range=(1,1)) #stopwords déjà supprimés dans le prétraitement\n",
        "X_train_text = vec_unigram_GB.fit_transform(df_train.preprocessed)\n",
        "X_test_text = vec_unigram_GB.transform(df_test.preprocessed)\n",
        "#on ajoute les metadonnées à notre vecteur d'occurence\n",
        "X_train = hstack((X_train_text, df_train.drop('preprocessed', axis=1).values))\n",
        "X_test = hstack((X_test_text, df_test.drop('preprocessed', axis=1).values))\n",
        "\n",
        "from sklearn.model_selection import StratifiedKFold\n",
        "# define models and parameters\n",
        "param = {\"subsample\": np.arange(0.6,0.9,0.1)}\n",
        "# define grid search\n",
        "model = GradientBoostingClassifier(learning_rate=0.1,n_estimators= 71, max_depth= 13, max_features='sqrt',min_samples_split= 60,min_samples_leaf=20)\n",
        "cv = StratifiedKFold(n_splits=5, random_state=0, shuffle=True)\n",
        "grid_search = GridSearchCV(estimator=model,param_grid = param,  n_jobs=-1, cv=cv, scoring='accuracy')\n",
        "grid_gb = grid_search.fit(X_train, y_train)\n",
        "# summarize results\n",
        "print(\"Best: %f using %s\" % (grid_gb.best_score_, grid_gb.best_params_))\n",
        "means = grid_gb.cv_results_['mean_test_score']\n",
        "stds = grid_gb.cv_results_['std_test_score']\n",
        "params = grid_gb.cv_results_['params']\n",
        "for mean, stdev, param in zip(means, stds, params):\n",
        "    print(\"%f (%f) with: %r\" % (mean, stdev, param))"
      ]
    },
    {
      "cell_type": "code",
      "execution_count": 19,
      "metadata": {
        "id": "8xBcKN15N3hn",
        "colab": {
          "base_uri": "https://localhost:8080/"
        },
        "outputId": "2359cb5d-8274-4a75-82fe-0e9459b26ca8"
      },
      "outputs": [
        {
          "output_type": "stream",
          "name": "stdout",
          "text": [
            "Score sur le trainset : 0.8706749858196257 ; Score sur le testset :  0.8666498613561886\n"
          ]
        }
      ],
      "source": [
        "print(\"Score sur le trainset :\",grid_gb.score(X_train,y_train),\"; Score sur le testset : \",grid_gb.score(X_test,y_test))\n"
      ]
    },
    {
      "cell_type": "markdown",
      "metadata": {
        "id": "PcTD56XWTT04"
      },
      "source": [
        "\n",
        "\n",
        "## Methode TF-IDF"
      ]
    },
    {
      "cell_type": "markdown",
      "metadata": {
        "id": "9lsREMjiUMlJ"
      },
      "source": [
        "##  Algorithmes de classification sans tunning d'hyperparamètres\n",
        "- Régression logistique\n",
        "- SVM\n",
        "- Naïve Bayes\n",
        "- GradientBoosting\n",
        "Vectorisation prenant en compte uniquement les unigrams (vectorisation mot / mot)\n"
      ]
    },
    {
      "cell_type": "code",
      "execution_count": 21,
      "metadata": {
        "id": "CGqAFtqLToZR",
        "colab": {
          "base_uri": "https://localhost:8080/"
        },
        "outputId": "75b6b48a-c4bd-49b2-d2bc-87e0fafbeec6"
      },
      "outputs": [
        {
          "output_type": "stream",
          "name": "stdout",
          "text": [
            "CPU times: user 50.9 s, sys: 16.6 s, total: 1min 7s\n",
            "Wall time: 56 s\n"
          ]
        }
      ],
      "source": [
        "%%time\n",
        "from scipy.sparse import hstack\n",
        "from sklearn.feature_extraction.text import TfidfVectorizer\n",
        "\n",
        "X = df.drop(['Commentaire', 'Sentiment'], axis=1)\n",
        "y = df[\"Sentiment\"]\n",
        "df_train, df_test, y_train, y_test = train_test_split(X,y, train_size = 0.8, random_state = 0)\n",
        "# Vectorization avec CountVectorizer ()\n",
        "\n",
        "vec_unigram_tfidf = TfidfVectorizer( ngram_range=(1,1)) #stopwords déjà supprimés dans le prétraitement\n",
        "X_train_text = vec_unigram_tfidf.fit_transform(df_train.preprocessed)\n",
        "X_test_text = vec_unigram_tfidf.transform(df_test.preprocessed)\n",
        "#on ajoute les metadonnées à notre vecteur d'occurence\n",
        "X_train = hstack((X_train_text, df_train.drop('preprocessed', axis=1).values))\n",
        "X_test = hstack((X_test_text, df_test.drop('preprocessed', axis=1).values))\n",
        "\n",
        "# instanciation des classifieurs \n",
        "clf_reglog_unigram = LogisticRegression(C=1, max_iter= 10000)\n",
        "clf_svc_unigram = SVC()\n",
        "clf_MNB_unigram = MultinomialNB() \n",
        "clf_GB_unigram = GradientBoostingClassifier()\n",
        "\n",
        "# Fit des classifieurs aux données d'entraînement\n",
        "clf_reglog_unigram.fit(X_train, y_train)\n",
        "clf_svc_unigram.fit(X_train, y_train)\n",
        "clf_MNB_unigram.fit(X_train, y_train)\n",
        "clf_GB_unigram.fit(X_train, y_train)"
      ]
    },
    {
      "cell_type": "code",
      "execution_count": 22,
      "metadata": {
        "id": "eRKtk7OpTrkB",
        "colab": {
          "base_uri": "https://localhost:8080/"
        },
        "outputId": "2830d036-a644-4bf8-94be-810323a27f63"
      },
      "outputs": [
        {
          "output_type": "stream",
          "name": "stdout",
          "text": [
            " -- Régression logistique --\n",
            "Score sur le trainset : 0.9209050230037185 ; Score sur le testset :  0.8956390219309301\n",
            " -- SVC --\n",
            "Score sur le trainset : 0.8151509422070965 ; Score sur le testset :  0.8122006554071086\n",
            " -- Multinomial Naïve Bayes --\n",
            "Score sur le trainset : 0.8615995462280204 ; Score sur le testset :  0.8515250819258886\n",
            " -- GradientBoosting -- \n",
            "Score sur le trainset : 0.8778597088296465 ; Score sur le testset :  0.8633728258129569\n",
            "CPU times: user 23 s, sys: 1.62 ms, total: 23 s\n",
            "Wall time: 22.9 s\n"
          ]
        }
      ],
      "source": [
        "%%time\n",
        "# Affichage des scores des différents classifieurs\n",
        "\n",
        "print(\" -- Régression logistique --\")\n",
        "print(\"Score sur le trainset :\",clf_reglog_unigram.score(X_train,y_train),\"; Score sur le testset : \",clf_reglog_unigram.score(X_test,y_test))\n",
        "print(\" -- SVC --\")\n",
        "print(\"Score sur le trainset :\",clf_svc_unigram.score(X_train,y_train),\"; Score sur le testset : \",clf_svc_unigram.score(X_test,y_test))\n",
        "print(\" -- Multinomial Naïve Bayes --\")\n",
        "print(\"Score sur le trainset :\",clf_MNB_unigram.score(X_train,y_train),\"; Score sur le testset : \",clf_MNB_unigram.score(X_test,y_test))\n",
        "print(\" -- GradientBoosting -- \")\n",
        "print(\"Score sur le trainset :\",clf_GB_unigram.score(X_train,y_train),\"; Score sur le testset : \",clf_GB_unigram.score(X_test,y_test))"
      ]
    },
    {
      "cell_type": "code",
      "execution_count": 23,
      "metadata": {
        "id": "1F0hF9HgUshb",
        "colab": {
          "base_uri": "https://localhost:8080/",
          "height": 1000
        },
        "outputId": "d785e2e7-d30b-43ea-efdd-6ad8279adc72"
      },
      "outputs": [
        {
          "output_type": "stream",
          "name": "stdout",
          "text": [
            " -- Régression logistique --\n"
          ]
        },
        {
          "output_type": "display_data",
          "data": {
            "text/plain": [
              "Classe réelle      0     1\n",
              "Classe prédite            \n",
              "0               1418   234\n",
              "1                180  2135"
            ],
            "text/html": [
              "\n",
              "  <div id=\"df-451573bc-f944-4e94-94c0-a0f3f461c946\">\n",
              "    <div class=\"colab-df-container\">\n",
              "      <div>\n",
              "<style scoped>\n",
              "    .dataframe tbody tr th:only-of-type {\n",
              "        vertical-align: middle;\n",
              "    }\n",
              "\n",
              "    .dataframe tbody tr th {\n",
              "        vertical-align: top;\n",
              "    }\n",
              "\n",
              "    .dataframe thead th {\n",
              "        text-align: right;\n",
              "    }\n",
              "</style>\n",
              "<table border=\"1\" class=\"dataframe\">\n",
              "  <thead>\n",
              "    <tr style=\"text-align: right;\">\n",
              "      <th>Classe réelle</th>\n",
              "      <th>0</th>\n",
              "      <th>1</th>\n",
              "    </tr>\n",
              "    <tr>\n",
              "      <th>Classe prédite</th>\n",
              "      <th></th>\n",
              "      <th></th>\n",
              "    </tr>\n",
              "  </thead>\n",
              "  <tbody>\n",
              "    <tr>\n",
              "      <th>0</th>\n",
              "      <td>1418</td>\n",
              "      <td>234</td>\n",
              "    </tr>\n",
              "    <tr>\n",
              "      <th>1</th>\n",
              "      <td>180</td>\n",
              "      <td>2135</td>\n",
              "    </tr>\n",
              "  </tbody>\n",
              "</table>\n",
              "</div>\n",
              "      <button class=\"colab-df-convert\" onclick=\"convertToInteractive('df-451573bc-f944-4e94-94c0-a0f3f461c946')\"\n",
              "              title=\"Convert this dataframe to an interactive table.\"\n",
              "              style=\"display:none;\">\n",
              "        \n",
              "  <svg xmlns=\"http://www.w3.org/2000/svg\" height=\"24px\"viewBox=\"0 0 24 24\"\n",
              "       width=\"24px\">\n",
              "    <path d=\"M0 0h24v24H0V0z\" fill=\"none\"/>\n",
              "    <path d=\"M18.56 5.44l.94 2.06.94-2.06 2.06-.94-2.06-.94-.94-2.06-.94 2.06-2.06.94zm-11 1L8.5 8.5l.94-2.06 2.06-.94-2.06-.94L8.5 2.5l-.94 2.06-2.06.94zm10 10l.94 2.06.94-2.06 2.06-.94-2.06-.94-.94-2.06-.94 2.06-2.06.94z\"/><path d=\"M17.41 7.96l-1.37-1.37c-.4-.4-.92-.59-1.43-.59-.52 0-1.04.2-1.43.59L10.3 9.45l-7.72 7.72c-.78.78-.78 2.05 0 2.83L4 21.41c.39.39.9.59 1.41.59.51 0 1.02-.2 1.41-.59l7.78-7.78 2.81-2.81c.8-.78.8-2.07 0-2.86zM5.41 20L4 18.59l7.72-7.72 1.47 1.35L5.41 20z\"/>\n",
              "  </svg>\n",
              "      </button>\n",
              "      \n",
              "  <style>\n",
              "    .colab-df-container {\n",
              "      display:flex;\n",
              "      flex-wrap:wrap;\n",
              "      gap: 12px;\n",
              "    }\n",
              "\n",
              "    .colab-df-convert {\n",
              "      background-color: #E8F0FE;\n",
              "      border: none;\n",
              "      border-radius: 50%;\n",
              "      cursor: pointer;\n",
              "      display: none;\n",
              "      fill: #1967D2;\n",
              "      height: 32px;\n",
              "      padding: 0 0 0 0;\n",
              "      width: 32px;\n",
              "    }\n",
              "\n",
              "    .colab-df-convert:hover {\n",
              "      background-color: #E2EBFA;\n",
              "      box-shadow: 0px 1px 2px rgba(60, 64, 67, 0.3), 0px 1px 3px 1px rgba(60, 64, 67, 0.15);\n",
              "      fill: #174EA6;\n",
              "    }\n",
              "\n",
              "    [theme=dark] .colab-df-convert {\n",
              "      background-color: #3B4455;\n",
              "      fill: #D2E3FC;\n",
              "    }\n",
              "\n",
              "    [theme=dark] .colab-df-convert:hover {\n",
              "      background-color: #434B5C;\n",
              "      box-shadow: 0px 1px 3px 1px rgba(0, 0, 0, 0.15);\n",
              "      filter: drop-shadow(0px 1px 2px rgba(0, 0, 0, 0.3));\n",
              "      fill: #FFFFFF;\n",
              "    }\n",
              "  </style>\n",
              "\n",
              "      <script>\n",
              "        const buttonEl =\n",
              "          document.querySelector('#df-451573bc-f944-4e94-94c0-a0f3f461c946 button.colab-df-convert');\n",
              "        buttonEl.style.display =\n",
              "          google.colab.kernel.accessAllowed ? 'block' : 'none';\n",
              "\n",
              "        async function convertToInteractive(key) {\n",
              "          const element = document.querySelector('#df-451573bc-f944-4e94-94c0-a0f3f461c946');\n",
              "          const dataTable =\n",
              "            await google.colab.kernel.invokeFunction('convertToInteractive',\n",
              "                                                     [key], {});\n",
              "          if (!dataTable) return;\n",
              "\n",
              "          const docLinkHtml = 'Like what you see? Visit the ' +\n",
              "            '<a target=\"_blank\" href=https://colab.research.google.com/notebooks/data_table.ipynb>data table notebook</a>'\n",
              "            + ' to learn more about interactive tables.';\n",
              "          element.innerHTML = '';\n",
              "          dataTable['output_type'] = 'display_data';\n",
              "          await google.colab.output.renderOutput(dataTable, element);\n",
              "          const docLink = document.createElement('div');\n",
              "          docLink.innerHTML = docLinkHtml;\n",
              "          element.appendChild(docLink);\n",
              "        }\n",
              "      </script>\n",
              "    </div>\n",
              "  </div>\n",
              "  "
            ]
          },
          "metadata": {}
        },
        {
          "output_type": "stream",
          "name": "stdout",
          "text": [
            "              precision    recall  f1-score   support\n",
            "\n",
            "           0       0.89      0.86      0.87      1652\n",
            "           1       0.90      0.92      0.91      2315\n",
            "\n",
            "    accuracy                           0.90      3967\n",
            "   macro avg       0.89      0.89      0.89      3967\n",
            "weighted avg       0.90      0.90      0.90      3967\n",
            "\n",
            " -- SVC --\n"
          ]
        },
        {
          "output_type": "display_data",
          "data": {
            "text/plain": [
              "Classe réelle      0     1\n",
              "Classe prédite            \n",
              "0               1088   564\n",
              "1                181  2134"
            ],
            "text/html": [
              "\n",
              "  <div id=\"df-b27f4bfe-14ab-4d7f-8b64-26ece94a0b34\">\n",
              "    <div class=\"colab-df-container\">\n",
              "      <div>\n",
              "<style scoped>\n",
              "    .dataframe tbody tr th:only-of-type {\n",
              "        vertical-align: middle;\n",
              "    }\n",
              "\n",
              "    .dataframe tbody tr th {\n",
              "        vertical-align: top;\n",
              "    }\n",
              "\n",
              "    .dataframe thead th {\n",
              "        text-align: right;\n",
              "    }\n",
              "</style>\n",
              "<table border=\"1\" class=\"dataframe\">\n",
              "  <thead>\n",
              "    <tr style=\"text-align: right;\">\n",
              "      <th>Classe réelle</th>\n",
              "      <th>0</th>\n",
              "      <th>1</th>\n",
              "    </tr>\n",
              "    <tr>\n",
              "      <th>Classe prédite</th>\n",
              "      <th></th>\n",
              "      <th></th>\n",
              "    </tr>\n",
              "  </thead>\n",
              "  <tbody>\n",
              "    <tr>\n",
              "      <th>0</th>\n",
              "      <td>1088</td>\n",
              "      <td>564</td>\n",
              "    </tr>\n",
              "    <tr>\n",
              "      <th>1</th>\n",
              "      <td>181</td>\n",
              "      <td>2134</td>\n",
              "    </tr>\n",
              "  </tbody>\n",
              "</table>\n",
              "</div>\n",
              "      <button class=\"colab-df-convert\" onclick=\"convertToInteractive('df-b27f4bfe-14ab-4d7f-8b64-26ece94a0b34')\"\n",
              "              title=\"Convert this dataframe to an interactive table.\"\n",
              "              style=\"display:none;\">\n",
              "        \n",
              "  <svg xmlns=\"http://www.w3.org/2000/svg\" height=\"24px\"viewBox=\"0 0 24 24\"\n",
              "       width=\"24px\">\n",
              "    <path d=\"M0 0h24v24H0V0z\" fill=\"none\"/>\n",
              "    <path d=\"M18.56 5.44l.94 2.06.94-2.06 2.06-.94-2.06-.94-.94-2.06-.94 2.06-2.06.94zm-11 1L8.5 8.5l.94-2.06 2.06-.94-2.06-.94L8.5 2.5l-.94 2.06-2.06.94zm10 10l.94 2.06.94-2.06 2.06-.94-2.06-.94-.94-2.06-.94 2.06-2.06.94z\"/><path d=\"M17.41 7.96l-1.37-1.37c-.4-.4-.92-.59-1.43-.59-.52 0-1.04.2-1.43.59L10.3 9.45l-7.72 7.72c-.78.78-.78 2.05 0 2.83L4 21.41c.39.39.9.59 1.41.59.51 0 1.02-.2 1.41-.59l7.78-7.78 2.81-2.81c.8-.78.8-2.07 0-2.86zM5.41 20L4 18.59l7.72-7.72 1.47 1.35L5.41 20z\"/>\n",
              "  </svg>\n",
              "      </button>\n",
              "      \n",
              "  <style>\n",
              "    .colab-df-container {\n",
              "      display:flex;\n",
              "      flex-wrap:wrap;\n",
              "      gap: 12px;\n",
              "    }\n",
              "\n",
              "    .colab-df-convert {\n",
              "      background-color: #E8F0FE;\n",
              "      border: none;\n",
              "      border-radius: 50%;\n",
              "      cursor: pointer;\n",
              "      display: none;\n",
              "      fill: #1967D2;\n",
              "      height: 32px;\n",
              "      padding: 0 0 0 0;\n",
              "      width: 32px;\n",
              "    }\n",
              "\n",
              "    .colab-df-convert:hover {\n",
              "      background-color: #E2EBFA;\n",
              "      box-shadow: 0px 1px 2px rgba(60, 64, 67, 0.3), 0px 1px 3px 1px rgba(60, 64, 67, 0.15);\n",
              "      fill: #174EA6;\n",
              "    }\n",
              "\n",
              "    [theme=dark] .colab-df-convert {\n",
              "      background-color: #3B4455;\n",
              "      fill: #D2E3FC;\n",
              "    }\n",
              "\n",
              "    [theme=dark] .colab-df-convert:hover {\n",
              "      background-color: #434B5C;\n",
              "      box-shadow: 0px 1px 3px 1px rgba(0, 0, 0, 0.15);\n",
              "      filter: drop-shadow(0px 1px 2px rgba(0, 0, 0, 0.3));\n",
              "      fill: #FFFFFF;\n",
              "    }\n",
              "  </style>\n",
              "\n",
              "      <script>\n",
              "        const buttonEl =\n",
              "          document.querySelector('#df-b27f4bfe-14ab-4d7f-8b64-26ece94a0b34 button.colab-df-convert');\n",
              "        buttonEl.style.display =\n",
              "          google.colab.kernel.accessAllowed ? 'block' : 'none';\n",
              "\n",
              "        async function convertToInteractive(key) {\n",
              "          const element = document.querySelector('#df-b27f4bfe-14ab-4d7f-8b64-26ece94a0b34');\n",
              "          const dataTable =\n",
              "            await google.colab.kernel.invokeFunction('convertToInteractive',\n",
              "                                                     [key], {});\n",
              "          if (!dataTable) return;\n",
              "\n",
              "          const docLinkHtml = 'Like what you see? Visit the ' +\n",
              "            '<a target=\"_blank\" href=https://colab.research.google.com/notebooks/data_table.ipynb>data table notebook</a>'\n",
              "            + ' to learn more about interactive tables.';\n",
              "          element.innerHTML = '';\n",
              "          dataTable['output_type'] = 'display_data';\n",
              "          await google.colab.output.renderOutput(dataTable, element);\n",
              "          const docLink = document.createElement('div');\n",
              "          docLink.innerHTML = docLinkHtml;\n",
              "          element.appendChild(docLink);\n",
              "        }\n",
              "      </script>\n",
              "    </div>\n",
              "  </div>\n",
              "  "
            ]
          },
          "metadata": {}
        },
        {
          "output_type": "stream",
          "name": "stdout",
          "text": [
            "              precision    recall  f1-score   support\n",
            "\n",
            "           0       0.86      0.66      0.74      1652\n",
            "           1       0.79      0.92      0.85      2315\n",
            "\n",
            "    accuracy                           0.81      3967\n",
            "   macro avg       0.82      0.79      0.80      3967\n",
            "weighted avg       0.82      0.81      0.81      3967\n",
            "\n",
            " -- Multinomial Naïve Bayes --\n"
          ]
        },
        {
          "output_type": "display_data",
          "data": {
            "text/plain": [
              "Classe réelle      0     1\n",
              "Classe prédite            \n",
              "0               1405   247\n",
              "1                342  1973"
            ],
            "text/html": [
              "\n",
              "  <div id=\"df-72466468-986c-45c3-876b-b2619ee1e64f\">\n",
              "    <div class=\"colab-df-container\">\n",
              "      <div>\n",
              "<style scoped>\n",
              "    .dataframe tbody tr th:only-of-type {\n",
              "        vertical-align: middle;\n",
              "    }\n",
              "\n",
              "    .dataframe tbody tr th {\n",
              "        vertical-align: top;\n",
              "    }\n",
              "\n",
              "    .dataframe thead th {\n",
              "        text-align: right;\n",
              "    }\n",
              "</style>\n",
              "<table border=\"1\" class=\"dataframe\">\n",
              "  <thead>\n",
              "    <tr style=\"text-align: right;\">\n",
              "      <th>Classe réelle</th>\n",
              "      <th>0</th>\n",
              "      <th>1</th>\n",
              "    </tr>\n",
              "    <tr>\n",
              "      <th>Classe prédite</th>\n",
              "      <th></th>\n",
              "      <th></th>\n",
              "    </tr>\n",
              "  </thead>\n",
              "  <tbody>\n",
              "    <tr>\n",
              "      <th>0</th>\n",
              "      <td>1405</td>\n",
              "      <td>247</td>\n",
              "    </tr>\n",
              "    <tr>\n",
              "      <th>1</th>\n",
              "      <td>342</td>\n",
              "      <td>1973</td>\n",
              "    </tr>\n",
              "  </tbody>\n",
              "</table>\n",
              "</div>\n",
              "      <button class=\"colab-df-convert\" onclick=\"convertToInteractive('df-72466468-986c-45c3-876b-b2619ee1e64f')\"\n",
              "              title=\"Convert this dataframe to an interactive table.\"\n",
              "              style=\"display:none;\">\n",
              "        \n",
              "  <svg xmlns=\"http://www.w3.org/2000/svg\" height=\"24px\"viewBox=\"0 0 24 24\"\n",
              "       width=\"24px\">\n",
              "    <path d=\"M0 0h24v24H0V0z\" fill=\"none\"/>\n",
              "    <path d=\"M18.56 5.44l.94 2.06.94-2.06 2.06-.94-2.06-.94-.94-2.06-.94 2.06-2.06.94zm-11 1L8.5 8.5l.94-2.06 2.06-.94-2.06-.94L8.5 2.5l-.94 2.06-2.06.94zm10 10l.94 2.06.94-2.06 2.06-.94-2.06-.94-.94-2.06-.94 2.06-2.06.94z\"/><path d=\"M17.41 7.96l-1.37-1.37c-.4-.4-.92-.59-1.43-.59-.52 0-1.04.2-1.43.59L10.3 9.45l-7.72 7.72c-.78.78-.78 2.05 0 2.83L4 21.41c.39.39.9.59 1.41.59.51 0 1.02-.2 1.41-.59l7.78-7.78 2.81-2.81c.8-.78.8-2.07 0-2.86zM5.41 20L4 18.59l7.72-7.72 1.47 1.35L5.41 20z\"/>\n",
              "  </svg>\n",
              "      </button>\n",
              "      \n",
              "  <style>\n",
              "    .colab-df-container {\n",
              "      display:flex;\n",
              "      flex-wrap:wrap;\n",
              "      gap: 12px;\n",
              "    }\n",
              "\n",
              "    .colab-df-convert {\n",
              "      background-color: #E8F0FE;\n",
              "      border: none;\n",
              "      border-radius: 50%;\n",
              "      cursor: pointer;\n",
              "      display: none;\n",
              "      fill: #1967D2;\n",
              "      height: 32px;\n",
              "      padding: 0 0 0 0;\n",
              "      width: 32px;\n",
              "    }\n",
              "\n",
              "    .colab-df-convert:hover {\n",
              "      background-color: #E2EBFA;\n",
              "      box-shadow: 0px 1px 2px rgba(60, 64, 67, 0.3), 0px 1px 3px 1px rgba(60, 64, 67, 0.15);\n",
              "      fill: #174EA6;\n",
              "    }\n",
              "\n",
              "    [theme=dark] .colab-df-convert {\n",
              "      background-color: #3B4455;\n",
              "      fill: #D2E3FC;\n",
              "    }\n",
              "\n",
              "    [theme=dark] .colab-df-convert:hover {\n",
              "      background-color: #434B5C;\n",
              "      box-shadow: 0px 1px 3px 1px rgba(0, 0, 0, 0.15);\n",
              "      filter: drop-shadow(0px 1px 2px rgba(0, 0, 0, 0.3));\n",
              "      fill: #FFFFFF;\n",
              "    }\n",
              "  </style>\n",
              "\n",
              "      <script>\n",
              "        const buttonEl =\n",
              "          document.querySelector('#df-72466468-986c-45c3-876b-b2619ee1e64f button.colab-df-convert');\n",
              "        buttonEl.style.display =\n",
              "          google.colab.kernel.accessAllowed ? 'block' : 'none';\n",
              "\n",
              "        async function convertToInteractive(key) {\n",
              "          const element = document.querySelector('#df-72466468-986c-45c3-876b-b2619ee1e64f');\n",
              "          const dataTable =\n",
              "            await google.colab.kernel.invokeFunction('convertToInteractive',\n",
              "                                                     [key], {});\n",
              "          if (!dataTable) return;\n",
              "\n",
              "          const docLinkHtml = 'Like what you see? Visit the ' +\n",
              "            '<a target=\"_blank\" href=https://colab.research.google.com/notebooks/data_table.ipynb>data table notebook</a>'\n",
              "            + ' to learn more about interactive tables.';\n",
              "          element.innerHTML = '';\n",
              "          dataTable['output_type'] = 'display_data';\n",
              "          await google.colab.output.renderOutput(dataTable, element);\n",
              "          const docLink = document.createElement('div');\n",
              "          docLink.innerHTML = docLinkHtml;\n",
              "          element.appendChild(docLink);\n",
              "        }\n",
              "      </script>\n",
              "    </div>\n",
              "  </div>\n",
              "  "
            ]
          },
          "metadata": {}
        },
        {
          "output_type": "stream",
          "name": "stdout",
          "text": [
            "              precision    recall  f1-score   support\n",
            "\n",
            "           0       0.80      0.85      0.83      1652\n",
            "           1       0.89      0.85      0.87      2315\n",
            "\n",
            "    accuracy                           0.85      3967\n",
            "   macro avg       0.85      0.85      0.85      3967\n",
            "weighted avg       0.85      0.85      0.85      3967\n",
            "\n",
            " -- GradientBoosting -- \n"
          ]
        },
        {
          "output_type": "display_data",
          "data": {
            "text/plain": [
              "Classe réelle      0     1\n",
              "Classe prédite            \n",
              "0               1309   343\n",
              "1                199  2116"
            ],
            "text/html": [
              "\n",
              "  <div id=\"df-b8f8be06-0018-4608-9815-0e95f05c7e7d\">\n",
              "    <div class=\"colab-df-container\">\n",
              "      <div>\n",
              "<style scoped>\n",
              "    .dataframe tbody tr th:only-of-type {\n",
              "        vertical-align: middle;\n",
              "    }\n",
              "\n",
              "    .dataframe tbody tr th {\n",
              "        vertical-align: top;\n",
              "    }\n",
              "\n",
              "    .dataframe thead th {\n",
              "        text-align: right;\n",
              "    }\n",
              "</style>\n",
              "<table border=\"1\" class=\"dataframe\">\n",
              "  <thead>\n",
              "    <tr style=\"text-align: right;\">\n",
              "      <th>Classe réelle</th>\n",
              "      <th>0</th>\n",
              "      <th>1</th>\n",
              "    </tr>\n",
              "    <tr>\n",
              "      <th>Classe prédite</th>\n",
              "      <th></th>\n",
              "      <th></th>\n",
              "    </tr>\n",
              "  </thead>\n",
              "  <tbody>\n",
              "    <tr>\n",
              "      <th>0</th>\n",
              "      <td>1309</td>\n",
              "      <td>343</td>\n",
              "    </tr>\n",
              "    <tr>\n",
              "      <th>1</th>\n",
              "      <td>199</td>\n",
              "      <td>2116</td>\n",
              "    </tr>\n",
              "  </tbody>\n",
              "</table>\n",
              "</div>\n",
              "      <button class=\"colab-df-convert\" onclick=\"convertToInteractive('df-b8f8be06-0018-4608-9815-0e95f05c7e7d')\"\n",
              "              title=\"Convert this dataframe to an interactive table.\"\n",
              "              style=\"display:none;\">\n",
              "        \n",
              "  <svg xmlns=\"http://www.w3.org/2000/svg\" height=\"24px\"viewBox=\"0 0 24 24\"\n",
              "       width=\"24px\">\n",
              "    <path d=\"M0 0h24v24H0V0z\" fill=\"none\"/>\n",
              "    <path d=\"M18.56 5.44l.94 2.06.94-2.06 2.06-.94-2.06-.94-.94-2.06-.94 2.06-2.06.94zm-11 1L8.5 8.5l.94-2.06 2.06-.94-2.06-.94L8.5 2.5l-.94 2.06-2.06.94zm10 10l.94 2.06.94-2.06 2.06-.94-2.06-.94-.94-2.06-.94 2.06-2.06.94z\"/><path d=\"M17.41 7.96l-1.37-1.37c-.4-.4-.92-.59-1.43-.59-.52 0-1.04.2-1.43.59L10.3 9.45l-7.72 7.72c-.78.78-.78 2.05 0 2.83L4 21.41c.39.39.9.59 1.41.59.51 0 1.02-.2 1.41-.59l7.78-7.78 2.81-2.81c.8-.78.8-2.07 0-2.86zM5.41 20L4 18.59l7.72-7.72 1.47 1.35L5.41 20z\"/>\n",
              "  </svg>\n",
              "      </button>\n",
              "      \n",
              "  <style>\n",
              "    .colab-df-container {\n",
              "      display:flex;\n",
              "      flex-wrap:wrap;\n",
              "      gap: 12px;\n",
              "    }\n",
              "\n",
              "    .colab-df-convert {\n",
              "      background-color: #E8F0FE;\n",
              "      border: none;\n",
              "      border-radius: 50%;\n",
              "      cursor: pointer;\n",
              "      display: none;\n",
              "      fill: #1967D2;\n",
              "      height: 32px;\n",
              "      padding: 0 0 0 0;\n",
              "      width: 32px;\n",
              "    }\n",
              "\n",
              "    .colab-df-convert:hover {\n",
              "      background-color: #E2EBFA;\n",
              "      box-shadow: 0px 1px 2px rgba(60, 64, 67, 0.3), 0px 1px 3px 1px rgba(60, 64, 67, 0.15);\n",
              "      fill: #174EA6;\n",
              "    }\n",
              "\n",
              "    [theme=dark] .colab-df-convert {\n",
              "      background-color: #3B4455;\n",
              "      fill: #D2E3FC;\n",
              "    }\n",
              "\n",
              "    [theme=dark] .colab-df-convert:hover {\n",
              "      background-color: #434B5C;\n",
              "      box-shadow: 0px 1px 3px 1px rgba(0, 0, 0, 0.15);\n",
              "      filter: drop-shadow(0px 1px 2px rgba(0, 0, 0, 0.3));\n",
              "      fill: #FFFFFF;\n",
              "    }\n",
              "  </style>\n",
              "\n",
              "      <script>\n",
              "        const buttonEl =\n",
              "          document.querySelector('#df-b8f8be06-0018-4608-9815-0e95f05c7e7d button.colab-df-convert');\n",
              "        buttonEl.style.display =\n",
              "          google.colab.kernel.accessAllowed ? 'block' : 'none';\n",
              "\n",
              "        async function convertToInteractive(key) {\n",
              "          const element = document.querySelector('#df-b8f8be06-0018-4608-9815-0e95f05c7e7d');\n",
              "          const dataTable =\n",
              "            await google.colab.kernel.invokeFunction('convertToInteractive',\n",
              "                                                     [key], {});\n",
              "          if (!dataTable) return;\n",
              "\n",
              "          const docLinkHtml = 'Like what you see? Visit the ' +\n",
              "            '<a target=\"_blank\" href=https://colab.research.google.com/notebooks/data_table.ipynb>data table notebook</a>'\n",
              "            + ' to learn more about interactive tables.';\n",
              "          element.innerHTML = '';\n",
              "          dataTable['output_type'] = 'display_data';\n",
              "          await google.colab.output.renderOutput(dataTable, element);\n",
              "          const docLink = document.createElement('div');\n",
              "          docLink.innerHTML = docLinkHtml;\n",
              "          element.appendChild(docLink);\n",
              "        }\n",
              "      </script>\n",
              "    </div>\n",
              "  </div>\n",
              "  "
            ]
          },
          "metadata": {}
        },
        {
          "output_type": "stream",
          "name": "stdout",
          "text": [
            "              precision    recall  f1-score   support\n",
            "\n",
            "           0       0.87      0.79      0.83      1652\n",
            "           1       0.86      0.91      0.89      2315\n",
            "\n",
            "    accuracy                           0.86      3967\n",
            "   macro avg       0.86      0.85      0.86      3967\n",
            "weighted avg       0.86      0.86      0.86      3967\n",
            "\n",
            "CPU times: user 4.74 s, sys: 2.6 ms, total: 4.74 s\n",
            "Wall time: 4.72 s\n"
          ]
        }
      ],
      "source": [
        "%%time\n",
        "# Affichage des prédictions par les différents classifieurs\n",
        "print(\" -- Régression logistique --\")\n",
        "pred_clf_reglog = clf_reglog_unigram.predict(X_test)\n",
        "display(pd.crosstab(y_test, pred_clf_reglog,  colnames=[\"Classe réelle\"], rownames=[\"Classe prédite\"]))\n",
        "print(classification_report(y_test,pred_clf_reglog))\n",
        "print(\" -- SVC --\")\n",
        "pred_clf_svc = clf_svc_unigram.predict(X_test)\n",
        "display(pd.crosstab(y_test, pred_clf_svc,  colnames=[\"Classe réelle\"], rownames=[\"Classe prédite\"]))\n",
        "print(classification_report(y_test,pred_clf_svc))\n",
        "print(\" -- Multinomial Naïve Bayes --\")\n",
        "pred_clf_MNB = clf_MNB_unigram.predict(X_test)\n",
        "display(pd.crosstab(y_test, pred_clf_MNB,  colnames=[\"Classe réelle\"], rownames=[\"Classe prédite\"]))\n",
        "print(classification_report(y_test,pred_clf_MNB))\n",
        "print(\" -- GradientBoosting -- \")\n",
        "pred_clf_GB = clf_GB_unigram.predict(X_test)\n",
        "display(pd.crosstab(y_test, pred_clf_GB,  colnames=[\"Classe réelle\"], rownames=[\"Classe prédite\"]))\n",
        "print(classification_report(y_test,pred_clf_GB))"
      ]
    },
    {
      "cell_type": "markdown",
      "metadata": {
        "id": "vVgJFTZ2U7JS"
      },
      "source": [
        "#### Classification à l'aide des algorithmes : \n",
        "- Régression logistique\n",
        "- SVM\n",
        "- Naïve Bayes\n",
        "- GradientBoosting\n",
        "Vectorisation prenant en compte des bigrams"
      ]
    },
    {
      "cell_type": "code",
      "execution_count": 17,
      "metadata": {
        "id": "f_RylfUZUtSh",
        "colab": {
          "base_uri": "https://localhost:8080/"
        },
        "outputId": "77562b75-52e1-48e2-a220-506c2eef55fa"
      },
      "outputs": [
        {
          "output_type": "stream",
          "name": "stdout",
          "text": [
            " -- Régression logistique --\n",
            "Score sur le trainset : 0.9354005167958657 ; Score sur le testset :  0.8968994202167885\n",
            " -- SVC --\n",
            "Score sur le trainset : 0.8150879183210437 ; Score sur le testset :  0.8122006554071086\n",
            " -- Multinomial Naïve Bayes --\n",
            "Score sur le trainset : 0.6495241696603012 ; Score sur le testset :  0.6531383917317872\n",
            " -- GradientBoosting -- \n",
            "Score sur le trainset : 0.8784899476901745 ; Score sur le testset :  0.8663977816990169\n"
          ]
        }
      ],
      "source": [
        "from sklearn.model_selection import train_test_split\n",
        "from sklearn.linear_model import LogisticRegression\n",
        "from sklearn.svm import SVC\n",
        "from sklearn.naive_bayes import MultinomialNB #Particulièrement adapté aux problèmes de classification avec des features discretes (text classification)\n",
        "from sklearn.ensemble import GradientBoostingClassifier\n",
        "from sklearn.metrics import classification_report\n",
        "from scipy.sparse import hstack\n",
        "from sklearn.feature_extraction.text import TfidfVectorizer\n",
        "\n",
        "X = df.drop(['Commentaire', 'Sentiment'], axis=1)\n",
        "y = df[\"Sentiment\"]\n",
        "df_train, df_test, y_train, y_test = train_test_split(X,y, train_size = 0.8, random_state = 0)\n",
        "# Vectorization avec CountVectorizer ()\n",
        "\n",
        "vec_ngram_tfidf = TfidfVectorizer( ngram_range=(1,2)) #stopwords déjà supprimés dans le prétraitement\n",
        "X_train_text = vec_ngram_tfidf.fit_transform(df_train.preprocessed)\n",
        "X_test_text = vec_ngram_tfidf.transform(df_test.preprocessed)\n",
        "#on ajoute les metadonnées à notre vecteur d'occurence\n",
        "X_train = hstack((X_train_text, df_train.drop('preprocessed', axis=1).values))\n",
        "X_test = hstack((X_test_text, df_test.drop('preprocessed', axis=1).values))\n",
        "\n",
        "\n",
        "# instanciation des classifieurs \n",
        "clf_reglog = LogisticRegression(C=1, max_iter= 5000)\n",
        "clf_svc = SVC()\n",
        "clf_MNB= MultinomialNB() \n",
        "clf_GB = GradientBoostingClassifier()\n",
        "\n",
        "# Fit des classifieurs aux données d'entraînement\n",
        "clf_reglog.fit(X_train , y_train)\n",
        "clf_svc.fit(X_train , y_train)\n",
        "clf_MNB.fit(X_train , y_train)\n",
        "clf_GB.fit(X_train , y_train)\n",
        "\n",
        "# Affichage des scores des différents classifieurs\n",
        "\n",
        "print(\" -- Régression logistique --\")\n",
        "print(\"Score sur le trainset :\",clf_reglog.score(X_train,y_train),\"; Score sur le testset : \",clf_reglog.score(X_test,y_test))\n",
        "print(\" -- SVC --\")\n",
        "print(\"Score sur le trainset :\",clf_svc.score(X_train,y_train),\"; Score sur le testset : \",clf_svc.score(X_test,y_test))\n",
        "print(\" -- Multinomial Naïve Bayes --\")\n",
        "print(\"Score sur le trainset :\",clf_MNB.score(X_train,y_train),\"; Score sur le testset : \",clf_MNB.score(X_test,y_test))\n",
        "print(\" -- GradientBoosting -- \")\n",
        "print(\"Score sur le trainset :\",clf_GB.score(X_train,y_train),\"; Score sur le testset : \",clf_GB.score(X_test,y_test))"
      ]
    },
    {
      "cell_type": "code",
      "execution_count": 11,
      "metadata": {
        "id": "M2yydR1eVIl6"
      },
      "outputs": [],
      "source": [
        ""
      ]
    }
  ],
  "metadata": {
    "colab": {
      "name": "Satisfaction client_iteration9_textmining_Etape_2.1",
      "toc_visible": true,
      "provenance": [],
      "authorship_tag": "ABX9TyPBWsYbVpEy+1EcDyIzbq1a",
      "include_colab_link": true
    },
    "kernelspec": {
      "display_name": "Python 3",
      "name": "python3"
    },
    "language_info": {
      "name": "python"
    }
  },
  "nbformat": 4,
  "nbformat_minor": 0
}